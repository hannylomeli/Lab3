{
 "cells": [
  {
   "cell_type": "markdown",
   "metadata": {
    "collapsed": true
   },
   "source": [
    "___\n",
    "<img style=\"float: right; margin: 0px 0px 15px 15px;\" \n",
    "src=\"https://www.carrerasenlinea.mx/logos/original/logo-instituto-tecnologico-y-de-estudios\n",
    "-superiores-de-occidente.png\" width=\"150px\" height=\"100px\" />\n",
    "\n",
    "\n",
    "# MICROESTRUCTURAS Y SISTEMAS DE \"TRADING\"\n",
    "# LABORATORIO 3\n",
    "\n",
    "## Nombres: Adrián García, Andres Ruvalcaba, Paulina Milenka, Hannia Lomelí\n",
    "\n",
    "## Fecha: 27 de Octubre 2019"
   ]
  },
  {
   "cell_type": "markdown",
   "metadata": {},
   "source": [
    "## Introducción\n",
    "\n",
    "Dentro de este tercer laboratorio se busca analizar el histórico de movimientos de un trader con el fin de reconocer si el individuo se inclinó a algún sesgo cognitivo en específico, nosotros decidimos escoger el **sesgo de confirmación**. "
   ]
  },
  {
   "cell_type": "markdown",
   "metadata": {},
   "source": [
    "### ¿Qué es un sesgo cognitivo?\n",
    "\n",
    "Un sesgo cognitivo es un efecto psicológico que produce una desviación en el procesamiento mental, lo que lleva a una distorsión, juicio inexacto, interpretación ilógica, o lo que se llama en términos generales irracionalidad, que se da sobre la base de la interpretación de la información disponible, aunque los datos no sean lógicos o no estén relacionados entre sí."
   ]
  },
  {
   "cell_type": "markdown",
   "metadata": {},
   "source": [
    "### ¿Cuál es el sesgo de CONFIRMACIÓN?\n",
    "\n",
    "Un sesgo de confirmación implica la tendencia a buscar y considerar de forma más intensa y selectiva aquella información que confirme lo que ya pensamos. Por lo tanto, interpretamos más positivamente aquellos hechos que básicamente respalden nuestras opiniones previas. Se trata de un prejuicio cognitivo que nos incita a seguir de acuerdo con nuestras creencias para así evitar entrar en contradicción con nosotros mismos.\n",
    "\n",
    "\n",
    "\n"
   ]
  },
  {
   "cell_type": "markdown",
   "metadata": {},
   "source": [
    "### Ejemplo genérico \n",
    "\n",
    "Por ejemplo, imaginemos que una persona cree que los niños que toman leche materna son más inteligentes que los que toman leche artificial. Cada vez que esta persona se encuentre con un niño que saque altas puntuaciones académicas y haya sido amamantado de forma natural, le dará mayor importancia a esta “evidencia” que respalda lo que ya cree, obviando a su vez a aquellos que también obtienen muy buenas puntuaciones pero han tomado leche de sustitución. Este individuo incluso podría buscar pruebas científicas que respalden aún más este pensamiento, mientras descarta los ejemplos que no respaldan la idea.\n",
    "\n",
    "<img style=\"float:center; margin: 0px 0px 15px 15px;\" \n",
    "src=\"https://images.clarin.com/2015/03/19/HJQmd7anXl_1256x620.jpg\" width=\"300px\" height=\"200px\" />"
   ]
  },
  {
   "cell_type": "markdown",
   "metadata": {},
   "source": [
    "### Ejemplo aplicado a Trading\n",
    "\n",
    "El sesgo de confirmación es la tendencia a buscar y sobrevalorar los datos que apoyen nuestra propia posición. Esto puede ser un problema importante en el trading, ya que lleva a los traders a confiarse en exceso con sus posiciones y apermanecer en operaciones mucho después de cuando debieran haber sido abandonadas. Un sencillo ejemplo es cuando los traders están en una posición y se centran principalmente en los indicadores o comportamientos del mercado que apoyan permanecer en la posición.\n",
    "\n",
    "En tales casos, el stop-loss de una posición no será un conjunto de criterios planificados. Más probablemente el stop-loss será el dolor: la posición sólo se abandonará cuando se hace imposible mantener el sesgo de confirmación. Muy a menudo ese punto de dolor será un punto obvio de falta de confirmación, tal y como una ruptura a un nuevo máximo o mínimo.\n",
    "\n",
    "<img style=\"float:center; margin: 0px 0px 15px 15px;\" \n",
    "src=\"http://openmarkets.cmegroup.com/wp-content/uploads/web19OM0010-Trader_640x360.jpg\" width=\"300px\" height=\"200px\" />\n"
   ]
  },
  {
   "cell_type": "markdown",
   "metadata": {},
   "source": [
    "### Pasos para calcular nuestra función (Pseudo-código)\n",
    "* 1. La idea del código es identificar si la persona tuvo un sesgo de confirmación. \n",
    "\n",
    "* 2. Después de importar datos, se crea una función para analizar el comportamiento de una persona que invierte en distintos instrumentos. \n",
    "\n",
    "* 3. Se crea un columna con profit y size con todas las operaciones del trader.\n",
    "\n",
    "* 4. Se desfasa una posición la columna de profit y size para comporarlos más adelante. \n",
    "\n",
    "* 5. Se generan condiciones para determinar si perdió dinero o ganó, analizando si profit es mayor o menor que cero. \n",
    "\n",
    "* 6. Se generan condiciones respecto al profit y al size para saber si su decisión fue razonable o sesgada de acuerdo a nuestros criterios. Ej: Ganó y mantuvo size, es razonable, o bien, ganó y disminuyó size, es sesgado. \n",
    "\n",
    "* 7. Se muestran los resultados de las operaciones del trader segun su comportamiento en tablas donde nos indique el número de veces que aumentó, disminuyó o mantuvo de acuerdo a si ganó o perdió en cada instrumento. \n",
    "\n",
    "* 8. Se genera otra tabla que muestre las veces que fue sesgado o razonable su comportamiento según el instrumento a lo largo de todas sus operaciones. \n",
    "\n",
    "* 9. Se manda llamar la función para mostrar resultados. \n",
    "\n",
    "* 10. Se presentan gráficos con los resultados obtenidos. \n",
    "\n"
   ]
  },
  {
   "cell_type": "markdown",
   "metadata": {},
   "source": [
    "### Código completo"
   ]
  },
  {
   "cell_type": "code",
   "execution_count": 134,
   "metadata": {},
   "outputs": [],
   "source": [
    "#Importamos librerias necesarias\n",
    "import pandas as pd\n",
    "import json\n",
    "import numpy as np\n",
    "import plotly.graph_objects as go\n",
    "from plotly.subplots import make_subplots"
   ]
  },
  {
   "cell_type": "code",
   "execution_count": 135,
   "metadata": {},
   "outputs": [],
   "source": [
    "# FUNCION REALIZADA EN CLASE\n",
    "\n",
    "#%% Opciones para visualizar data frames en consola\n",
    "\n",
    "pd.set_option(\"display.max_rows\",5000)\n",
    "pd.set_option(\"display.max_columns\",500)\n",
    "pd.set_option(\"display.width\",1000)\n",
    "\n",
    "# Ingreso de datos de entrada: leer archivo JSON\n",
    "\n",
    "archivo = \"archivo_tradeview_0.json\"\n",
    "\n",
    "def f_datosent(P0_archivo=\"archivo_tradeview_0.json\"):\n",
    "    \n",
    "    \"\"\"\n",
    "    param P0_archivio: Nombre del archivo con ubicación en la misma carpeta.\n",
    "    \"\"\"\n",
    "    \n",
    "    P1_tipo = P0_archivo.split(\".\")\n",
    "    P1_tipo = P1_tipo[1]\n",
    "\n",
    "    if P1_tipo==\"json\":\n",
    "        with open(archivo, encoding=\"utf-8-sig\") as json_file:\n",
    "            datos_2 = json.load(json_file)[\"data\"]\n",
    "            \n",
    "        df_datos = pd.DataFrame(datos_2[\"closedTransactions\"][\"list\"])\n",
    "        # Resetear index para tener todos los numeros de indices completos\n",
    "        df_datos = df_datos.drop(\"info\",axis=1).dropna().reset_index().drop(\"index\",axis=1)\n",
    "        \n",
    "        # Tomar deseados\n",
    "        df_datos = df_datos[(df_datos[\"type\"]==\"buy\") | (df_datos[\"type\"]==\"sell\") | (df_datos[\"type\"]==\"s/l\") | (df_datos[\"type\"]==\"t/p\")]\n",
    "        \n",
    "        # Renombrar\n",
    "        df_datos.rename(columns  = {\"SL\":\"sl\",\"TP\":\"tp\",\"price\":\"openPrice\",\"price2\":\"closePrice\",\"item\":\"instrument\"},inplace=True) # Con inplace se guarda \n",
    "        \n",
    "        return df_datos\n",
    "\n",
    "    elif P1_tipo==\"xlsx\":\n",
    "        \n",
    "    \n",
    "        df_datos = pd.read_excel(archivo)\n",
    "        \n",
    "        return df_datos\n",
    "    \n",
    "    elif P1_tipo==\"csv\":\n",
    "        \n",
    "        df_datos = pd.read_excel(archivo)\n",
    "        \n",
    "        return df_datos\n",
    "    else:\n",
    "        \n",
    "        print(\"No manejamos tu tipo de extensión\")\n",
    "         \n",
    "        \n",
    "    \n",
    "    \n",
    "df_datos = f_datosent(P0_archivo=archivo)"
   ]
  },
  {
   "cell_type": "markdown",
   "metadata": {},
   "source": [
    "## **NUESTRA FUNCIÓN:**"
   ]
  },
  {
   "cell_type": "code",
   "execution_count": 136,
   "metadata": {},
   "outputs": [],
   "source": [
    "def f_bf_confirmacion(df_datos):\n",
    "    \n",
    "    \"\"\"\n",
    "    param df_datos: Dataframe que contiene toda la informacion sobre la que trabajaremos\n",
    "    \"\"\"\n",
    "    \n",
    "    #Convertir formatos de columnas a flotantes\n",
    "    df_datos[['profit','size']] = df_datos[['profit','size']].astype(float) \n",
    "\n",
    "    lista1 =[]\n",
    "    lista2 =[]\n",
    "    h=list(df_datos.loc[:,'instrument'].unique()) #Aqui tomamos los elementos unicos de la columna de instrumentos - list\n",
    "    h2=df_datos.loc[:,'instrument'].unique() #Lo mismo de arriba pero sin convertirla en lista\n",
    "    \n",
    "    #Creamos DataFrame\n",
    "    x=[]\n",
    "    for i in range(len(h)): # Ciclo for que recorra toda la lista h\n",
    "        a=df_datos.where(df_datos.instrument == h[i]).dropna()[['instrument','size','profit']] # Quitamos los NA\n",
    "        \n",
    "        # Rezagamos la columna \"profit\" y \"size\"\n",
    "        a['sizet1']=a[['size']].shift(1)\n",
    "        a['profit']=a[['profit']].shift(1)\n",
    "\n",
    "        # Determinamos condicion con base a \"profit\" para saber si gano o perdio   \n",
    "        condiciones = [a.profit<0,a.profit>0]\n",
    "        elecciones =['perdió','ganó']\n",
    "        # Este comando regresa un arreglo de elementos de la lista de eleccion, dependiendo de las condiciones\n",
    "        b=np.select(condiciones,elecciones)\n",
    "        a['gano_perdio']=b\n",
    "    \n",
    "        # Ciclo para determinar la variacion en \"size\"\n",
    "        c=[]\n",
    "        for i in range(len(a[['size']])):\n",
    "            if a.iloc[i,1] > a.iloc[i,3]:\n",
    "                d = 'aumentó'\n",
    "            elif a.iloc[i,1] < a.iloc[i,3]:\n",
    "                d = 'disminuyó'\n",
    "            elif a.iloc[i,1] == a.iloc[i,3]:\n",
    "                d = 'mantuvo'\n",
    "            else:\n",
    "                d = 'na'\n",
    "            c.append(d)\n",
    "\n",
    "        a['com_size']=c\n",
    "\n",
    "\n",
    "        # Juntamos las condiciones de \"profit\" y \"size\" para saber el comportamiento del trader \n",
    "        condiciones = [(a.gano_perdio=='ganó') & (a.com_size=='mantuvo'),(a.gano_perdio=='ganó') & (a.com_size=='aumentó'),\n",
    "                      (a.gano_perdio=='ganó') & (a.com_size=='disminuyó'),(a.gano_perdio=='perdió') & (a.com_size=='aumentó'),\n",
    "                      (a.gano_perdio=='perdió') & (a.com_size=='mantuvo'),(a.gano_perdio=='perdió') & (a.com_size=='disminuyó')]\n",
    "        elecciones =['Razonable','Razonable','Sesgado','Sesgado','Sesgado','Razonable']\n",
    "\n",
    "        b=np.select(condiciones,elecciones)\n",
    "\n",
    "        a['Comportamiento']=b\n",
    "        a=a.iloc[1:]    \n",
    "\n",
    "        # Ordenamos la info en dos tablas\n",
    "        tabla1 = a.pivot_table(index='gano_perdio', columns=['instrument','com_size'], aggfunc={'com_size':len})\n",
    "        tabla2 = a.pivot_table(index='instrument',columns=['Comportamiento'], aggfunc={'Comportamiento':len})\n",
    "\n",
    "        # Las mostramos como listas\n",
    "        lista1.append(tabla1)\n",
    "        lista2.append(tabla2)\n",
    "        \n",
    "        # Las convertimos en diccionarios\n",
    "        final1 = {h[i]: lista1[i] for i in range(0, len(lista1))}\n",
    "        final2 = {h[i]: lista2[i] for i in range(0, len(lista2))}\n",
    "        \n",
    "           \n",
    "        \n",
    "    return final1, final2, print('SESGO DE CONFIRMACIÓN: Implica la tendencia a buscar y considerar de forma más intensa  y selectiva aquella información que confirme lo que ya pensamos al momento de selección y retención de activos.  Usa los diccionarios escribiendo una pariedad de la lista:'),print(h) "
   ]
  },
  {
   "cell_type": "markdown",
   "metadata": {},
   "source": [
    "### **A continuación mandamos a llamar la función y presento DATOS:**"
   ]
  },
  {
   "cell_type": "code",
   "execution_count": 128,
   "metadata": {},
   "outputs": [
    {
     "name": "stdout",
     "output_type": "stream",
     "text": [
      "SESGO DE CONFIRMACIÓN: Implica la tendencia a buscar y considerar de forma más intensa  y selectiva aquella información que confirme lo que ya pensamos al momento de selección y retención de activos.  Usa los diccionarios escribiendo una pariedad de la lista:\n",
      "['usdmxn', 'usdjpy', 'usdcad', 'xauusd', 'eurusd', 'euraud', 'gbpaud', 'audusd', 'nzdcad', 'audcad', 'gbpusd', 'usdchf', 'eurnzd']\n"
     ]
    }
   ],
   "source": [
    "tabla1, tabla2, instruccion, pariedades = f_bf_confirmacion(df_datos)"
   ]
  },
  {
   "cell_type": "code",
   "execution_count": 129,
   "metadata": {},
   "outputs": [
    {
     "data": {
      "text/html": [
       "<div>\n",
       "<style scoped>\n",
       "    .dataframe tbody tr th:only-of-type {\n",
       "        vertical-align: middle;\n",
       "    }\n",
       "\n",
       "    .dataframe tbody tr th {\n",
       "        vertical-align: top;\n",
       "    }\n",
       "\n",
       "    .dataframe thead tr th {\n",
       "        text-align: left;\n",
       "    }\n",
       "\n",
       "    .dataframe thead tr:last-of-type th {\n",
       "        text-align: right;\n",
       "    }\n",
       "</style>\n",
       "<table border=\"1\" class=\"dataframe\">\n",
       "  <thead>\n",
       "    <tr>\n",
       "      <th></th>\n",
       "      <th colspan=\"3\" halign=\"left\">com_size</th>\n",
       "    </tr>\n",
       "    <tr>\n",
       "      <th>instrument</th>\n",
       "      <th colspan=\"3\" halign=\"left\">eurusd</th>\n",
       "    </tr>\n",
       "    <tr>\n",
       "      <th>com_size</th>\n",
       "      <th>aumentó</th>\n",
       "      <th>disminuyó</th>\n",
       "      <th>mantuvo</th>\n",
       "    </tr>\n",
       "    <tr>\n",
       "      <th>gano_perdio</th>\n",
       "      <th></th>\n",
       "      <th></th>\n",
       "      <th></th>\n",
       "    </tr>\n",
       "  </thead>\n",
       "  <tbody>\n",
       "    <tr>\n",
       "      <td>ganó</td>\n",
       "      <td>2</td>\n",
       "      <td>2</td>\n",
       "      <td>4</td>\n",
       "    </tr>\n",
       "    <tr>\n",
       "      <td>perdió</td>\n",
       "      <td>3</td>\n",
       "      <td>1</td>\n",
       "      <td>9</td>\n",
       "    </tr>\n",
       "  </tbody>\n",
       "</table>\n",
       "</div>"
      ],
      "text/plain": [
       "            com_size                  \n",
       "instrument    eurusd                  \n",
       "com_size     aumentó disminuyó mantuvo\n",
       "gano_perdio                           \n",
       "ganó               2         2       4\n",
       "perdió             3         1       9"
      ]
     },
     "execution_count": 129,
     "metadata": {},
     "output_type": "execute_result"
    }
   ],
   "source": [
    "a = tabla1['eurusd']\n",
    "# CONVIERTO EL DICCIONARIO A DATAFRAME\n",
    "table1 = pd.DataFrame.from_dict(a)\n",
    "table1"
   ]
  },
  {
   "cell_type": "code",
   "execution_count": 130,
   "metadata": {},
   "outputs": [
    {
     "data": {
      "text/html": [
       "<div>\n",
       "<style scoped>\n",
       "    .dataframe tbody tr th:only-of-type {\n",
       "        vertical-align: middle;\n",
       "    }\n",
       "\n",
       "    .dataframe tbody tr th {\n",
       "        vertical-align: top;\n",
       "    }\n",
       "\n",
       "    .dataframe thead tr th {\n",
       "        text-align: left;\n",
       "    }\n",
       "\n",
       "    .dataframe thead tr:last-of-type th {\n",
       "        text-align: right;\n",
       "    }\n",
       "</style>\n",
       "<table border=\"1\" class=\"dataframe\">\n",
       "  <thead>\n",
       "    <tr>\n",
       "      <th></th>\n",
       "      <th colspan=\"2\" halign=\"left\">Comportamiento</th>\n",
       "    </tr>\n",
       "    <tr>\n",
       "      <th>Comportamiento</th>\n",
       "      <th>Razonable</th>\n",
       "      <th>Sesgado</th>\n",
       "    </tr>\n",
       "    <tr>\n",
       "      <th>instrument</th>\n",
       "      <th></th>\n",
       "      <th></th>\n",
       "    </tr>\n",
       "  </thead>\n",
       "  <tbody>\n",
       "    <tr>\n",
       "      <td>eurusd</td>\n",
       "      <td>7</td>\n",
       "      <td>14</td>\n",
       "    </tr>\n",
       "  </tbody>\n",
       "</table>\n",
       "</div>"
      ],
      "text/plain": [
       "               Comportamiento        \n",
       "Comportamiento      Razonable Sesgado\n",
       "instrument                           \n",
       "eurusd                      7      14"
      ]
     },
     "execution_count": 130,
     "metadata": {},
     "output_type": "execute_result"
    }
   ],
   "source": [
    "b = tabla2['eurusd']\n",
    "# CONVIERTO EL DICCIONARIO A DATAFRAME\n",
    "table2 = pd.DataFrame.from_dict(b)\n",
    "table2"
   ]
  },
  {
   "cell_type": "code",
   "execution_count": 131,
   "metadata": {},
   "outputs": [
    {
     "name": "stdout",
     "output_type": "stream",
     "text": [
      "El porcentaje de sesgo del trader en la paridad seleccionada fue: 66.67 %\n"
     ]
    }
   ],
   "source": [
    "Escala = table2.iloc[0,1]/(table2.iloc[0,1] + table2.iloc[0,0])*100\n",
    "escala = np.round(Escala,2)\n",
    "\n",
    "print('El porcentaje de sesgo del trader en la paridad seleccionada fue:',escala,'%')"
   ]
  },
  {
   "cell_type": "markdown",
   "metadata": {},
   "source": [
    "### Función para GRAFICAR"
   ]
  },
  {
   "cell_type": "code",
   "execution_count": 132,
   "metadata": {},
   "outputs": [
    {
     "data": {
      "text/plain": [
       "['usdmxn',\n",
       " 'usdjpy',\n",
       " 'usdcad',\n",
       " 'xauusd',\n",
       " 'eurusd',\n",
       " 'euraud',\n",
       " 'gbpaud',\n",
       " 'audusd',\n",
       " 'nzdcad',\n",
       " 'audcad',\n",
       " 'gbpusd',\n",
       " 'usdchf',\n",
       " 'eurnzd']"
      ]
     },
     "execution_count": 132,
     "metadata": {},
     "output_type": "execute_result"
    }
   ],
   "source": [
    "h=list(df_datos.loc[:,'instrument'].unique())\n",
    "h"
   ]
  },
  {
   "cell_type": "code",
   "execution_count": 133,
   "metadata": {},
   "outputs": [],
   "source": [
    "def g_p(h):\n",
    "    labels = ['aumento','disminuyo','mantuvo']\n",
    "\n",
    "    for c in ['usdcad', 'xauusd', 'eurusd']:\n",
    "\n",
    "        #Aqui creamos subplots\n",
    "        fig = make_subplots(rows=1, cols=2, specs=[[{'type':'domain'}, {'type':'domain'}]])\n",
    "        #Para cuando gano \n",
    "        fig.add_trace(go.Pie(labels=labels, values=[tabla1[c].iloc[0,0], tabla1[c].iloc[0,1],tabla1[c].iloc[0,2]], name='Cuando Gana'),\n",
    "                  1, 1)\n",
    "        #Para cuando perdio\n",
    "        fig.add_trace(go.Pie(labels=labels, values=[tabla1[c].iloc[1,0], tabla1[c].iloc[1,1],tabla1[c].iloc[1,2]], name=\"Cuando pierde\"),\n",
    "                  1, 2)\n",
    "\n",
    "    # Usamos \"hole\" para hacer la forma de una dona\n",
    "        fig.update_traces(hole=.4, hoverinfo=\"label+percent+name\")\n",
    "\n",
    "        fig.update_layout(\n",
    "        title_text=\"Comportamiento del size después de haber ganado o perdido \",\n",
    "        \n",
    "        #Agregamos anotaciones\n",
    "        annotations=[dict(text='Cuando ganó', x=0.13, y=0.5, font_size=20, showarrow=False),\n",
    "                     dict(text='Cuando perdió', x=0.88, y=0.5, font_size=20, showarrow=False)])\n",
    "    return fig.show()"
   ]
  },
  {
   "cell_type": "code",
   "execution_count": 36,
   "metadata": {},
   "outputs": [
    {
     "data": {
      "application/vnd.plotly.v1+json": {
       "config": {
        "plotlyServerURL": "https://plot.ly"
       },
       "data": [
        {
         "domain": {
          "x": [
           0,
           0.45
          ],
          "y": [
           0,
           1
          ]
         },
         "hole": 0.4,
         "hoverinfo": "label+percent+name",
         "labels": [
          "aumento",
          "disminuyo",
          "mantuvo"
         ],
         "name": "Cuando Gana",
         "type": "pie",
         "values": [
          2,
          2,
          4
         ]
        },
        {
         "domain": {
          "x": [
           0.55,
           1
          ],
          "y": [
           0,
           1
          ]
         },
         "hole": 0.4,
         "hoverinfo": "label+percent+name",
         "labels": [
          "aumento",
          "disminuyo",
          "mantuvo"
         ],
         "name": "Cuando pierde",
         "type": "pie",
         "values": [
          3,
          1,
          9
         ]
        }
       ],
       "layout": {
        "annotations": [
         {
          "font": {
           "size": 20
          },
          "showarrow": false,
          "text": "Cuando ganó",
          "x": 0.13,
          "y": 0.5
         },
         {
          "font": {
           "size": 20
          },
          "showarrow": false,
          "text": "Cuando perdió",
          "x": 0.88,
          "y": 0.5
         }
        ],
        "template": {
         "data": {
          "bar": [
           {
            "error_x": {
             "color": "#2a3f5f"
            },
            "error_y": {
             "color": "#2a3f5f"
            },
            "marker": {
             "line": {
              "color": "#E5ECF6",
              "width": 0.5
             }
            },
            "type": "bar"
           }
          ],
          "barpolar": [
           {
            "marker": {
             "line": {
              "color": "#E5ECF6",
              "width": 0.5
             }
            },
            "type": "barpolar"
           }
          ],
          "carpet": [
           {
            "aaxis": {
             "endlinecolor": "#2a3f5f",
             "gridcolor": "white",
             "linecolor": "white",
             "minorgridcolor": "white",
             "startlinecolor": "#2a3f5f"
            },
            "baxis": {
             "endlinecolor": "#2a3f5f",
             "gridcolor": "white",
             "linecolor": "white",
             "minorgridcolor": "white",
             "startlinecolor": "#2a3f5f"
            },
            "type": "carpet"
           }
          ],
          "choropleth": [
           {
            "colorbar": {
             "outlinewidth": 0,
             "ticks": ""
            },
            "type": "choropleth"
           }
          ],
          "contour": [
           {
            "colorbar": {
             "outlinewidth": 0,
             "ticks": ""
            },
            "colorscale": [
             [
              0,
              "#0d0887"
             ],
             [
              0.1111111111111111,
              "#46039f"
             ],
             [
              0.2222222222222222,
              "#7201a8"
             ],
             [
              0.3333333333333333,
              "#9c179e"
             ],
             [
              0.4444444444444444,
              "#bd3786"
             ],
             [
              0.5555555555555556,
              "#d8576b"
             ],
             [
              0.6666666666666666,
              "#ed7953"
             ],
             [
              0.7777777777777778,
              "#fb9f3a"
             ],
             [
              0.8888888888888888,
              "#fdca26"
             ],
             [
              1,
              "#f0f921"
             ]
            ],
            "type": "contour"
           }
          ],
          "contourcarpet": [
           {
            "colorbar": {
             "outlinewidth": 0,
             "ticks": ""
            },
            "type": "contourcarpet"
           }
          ],
          "heatmap": [
           {
            "colorbar": {
             "outlinewidth": 0,
             "ticks": ""
            },
            "colorscale": [
             [
              0,
              "#0d0887"
             ],
             [
              0.1111111111111111,
              "#46039f"
             ],
             [
              0.2222222222222222,
              "#7201a8"
             ],
             [
              0.3333333333333333,
              "#9c179e"
             ],
             [
              0.4444444444444444,
              "#bd3786"
             ],
             [
              0.5555555555555556,
              "#d8576b"
             ],
             [
              0.6666666666666666,
              "#ed7953"
             ],
             [
              0.7777777777777778,
              "#fb9f3a"
             ],
             [
              0.8888888888888888,
              "#fdca26"
             ],
             [
              1,
              "#f0f921"
             ]
            ],
            "type": "heatmap"
           }
          ],
          "heatmapgl": [
           {
            "colorbar": {
             "outlinewidth": 0,
             "ticks": ""
            },
            "colorscale": [
             [
              0,
              "#0d0887"
             ],
             [
              0.1111111111111111,
              "#46039f"
             ],
             [
              0.2222222222222222,
              "#7201a8"
             ],
             [
              0.3333333333333333,
              "#9c179e"
             ],
             [
              0.4444444444444444,
              "#bd3786"
             ],
             [
              0.5555555555555556,
              "#d8576b"
             ],
             [
              0.6666666666666666,
              "#ed7953"
             ],
             [
              0.7777777777777778,
              "#fb9f3a"
             ],
             [
              0.8888888888888888,
              "#fdca26"
             ],
             [
              1,
              "#f0f921"
             ]
            ],
            "type": "heatmapgl"
           }
          ],
          "histogram": [
           {
            "marker": {
             "colorbar": {
              "outlinewidth": 0,
              "ticks": ""
             }
            },
            "type": "histogram"
           }
          ],
          "histogram2d": [
           {
            "colorbar": {
             "outlinewidth": 0,
             "ticks": ""
            },
            "colorscale": [
             [
              0,
              "#0d0887"
             ],
             [
              0.1111111111111111,
              "#46039f"
             ],
             [
              0.2222222222222222,
              "#7201a8"
             ],
             [
              0.3333333333333333,
              "#9c179e"
             ],
             [
              0.4444444444444444,
              "#bd3786"
             ],
             [
              0.5555555555555556,
              "#d8576b"
             ],
             [
              0.6666666666666666,
              "#ed7953"
             ],
             [
              0.7777777777777778,
              "#fb9f3a"
             ],
             [
              0.8888888888888888,
              "#fdca26"
             ],
             [
              1,
              "#f0f921"
             ]
            ],
            "type": "histogram2d"
           }
          ],
          "histogram2dcontour": [
           {
            "colorbar": {
             "outlinewidth": 0,
             "ticks": ""
            },
            "colorscale": [
             [
              0,
              "#0d0887"
             ],
             [
              0.1111111111111111,
              "#46039f"
             ],
             [
              0.2222222222222222,
              "#7201a8"
             ],
             [
              0.3333333333333333,
              "#9c179e"
             ],
             [
              0.4444444444444444,
              "#bd3786"
             ],
             [
              0.5555555555555556,
              "#d8576b"
             ],
             [
              0.6666666666666666,
              "#ed7953"
             ],
             [
              0.7777777777777778,
              "#fb9f3a"
             ],
             [
              0.8888888888888888,
              "#fdca26"
             ],
             [
              1,
              "#f0f921"
             ]
            ],
            "type": "histogram2dcontour"
           }
          ],
          "mesh3d": [
           {
            "colorbar": {
             "outlinewidth": 0,
             "ticks": ""
            },
            "type": "mesh3d"
           }
          ],
          "parcoords": [
           {
            "line": {
             "colorbar": {
              "outlinewidth": 0,
              "ticks": ""
             }
            },
            "type": "parcoords"
           }
          ],
          "scatter": [
           {
            "marker": {
             "colorbar": {
              "outlinewidth": 0,
              "ticks": ""
             }
            },
            "type": "scatter"
           }
          ],
          "scatter3d": [
           {
            "line": {
             "colorbar": {
              "outlinewidth": 0,
              "ticks": ""
             }
            },
            "marker": {
             "colorbar": {
              "outlinewidth": 0,
              "ticks": ""
             }
            },
            "type": "scatter3d"
           }
          ],
          "scattercarpet": [
           {
            "marker": {
             "colorbar": {
              "outlinewidth": 0,
              "ticks": ""
             }
            },
            "type": "scattercarpet"
           }
          ],
          "scattergeo": [
           {
            "marker": {
             "colorbar": {
              "outlinewidth": 0,
              "ticks": ""
             }
            },
            "type": "scattergeo"
           }
          ],
          "scattergl": [
           {
            "marker": {
             "colorbar": {
              "outlinewidth": 0,
              "ticks": ""
             }
            },
            "type": "scattergl"
           }
          ],
          "scattermapbox": [
           {
            "marker": {
             "colorbar": {
              "outlinewidth": 0,
              "ticks": ""
             }
            },
            "type": "scattermapbox"
           }
          ],
          "scatterpolar": [
           {
            "marker": {
             "colorbar": {
              "outlinewidth": 0,
              "ticks": ""
             }
            },
            "type": "scatterpolar"
           }
          ],
          "scatterpolargl": [
           {
            "marker": {
             "colorbar": {
              "outlinewidth": 0,
              "ticks": ""
             }
            },
            "type": "scatterpolargl"
           }
          ],
          "scatterternary": [
           {
            "marker": {
             "colorbar": {
              "outlinewidth": 0,
              "ticks": ""
             }
            },
            "type": "scatterternary"
           }
          ],
          "surface": [
           {
            "colorbar": {
             "outlinewidth": 0,
             "ticks": ""
            },
            "colorscale": [
             [
              0,
              "#0d0887"
             ],
             [
              0.1111111111111111,
              "#46039f"
             ],
             [
              0.2222222222222222,
              "#7201a8"
             ],
             [
              0.3333333333333333,
              "#9c179e"
             ],
             [
              0.4444444444444444,
              "#bd3786"
             ],
             [
              0.5555555555555556,
              "#d8576b"
             ],
             [
              0.6666666666666666,
              "#ed7953"
             ],
             [
              0.7777777777777778,
              "#fb9f3a"
             ],
             [
              0.8888888888888888,
              "#fdca26"
             ],
             [
              1,
              "#f0f921"
             ]
            ],
            "type": "surface"
           }
          ],
          "table": [
           {
            "cells": {
             "fill": {
              "color": "#EBF0F8"
             },
             "line": {
              "color": "white"
             }
            },
            "header": {
             "fill": {
              "color": "#C8D4E3"
             },
             "line": {
              "color": "white"
             }
            },
            "type": "table"
           }
          ]
         },
         "layout": {
          "annotationdefaults": {
           "arrowcolor": "#2a3f5f",
           "arrowhead": 0,
           "arrowwidth": 1
          },
          "colorscale": {
           "diverging": [
            [
             0,
             "#8e0152"
            ],
            [
             0.1,
             "#c51b7d"
            ],
            [
             0.2,
             "#de77ae"
            ],
            [
             0.3,
             "#f1b6da"
            ],
            [
             0.4,
             "#fde0ef"
            ],
            [
             0.5,
             "#f7f7f7"
            ],
            [
             0.6,
             "#e6f5d0"
            ],
            [
             0.7,
             "#b8e186"
            ],
            [
             0.8,
             "#7fbc41"
            ],
            [
             0.9,
             "#4d9221"
            ],
            [
             1,
             "#276419"
            ]
           ],
           "sequential": [
            [
             0,
             "#0d0887"
            ],
            [
             0.1111111111111111,
             "#46039f"
            ],
            [
             0.2222222222222222,
             "#7201a8"
            ],
            [
             0.3333333333333333,
             "#9c179e"
            ],
            [
             0.4444444444444444,
             "#bd3786"
            ],
            [
             0.5555555555555556,
             "#d8576b"
            ],
            [
             0.6666666666666666,
             "#ed7953"
            ],
            [
             0.7777777777777778,
             "#fb9f3a"
            ],
            [
             0.8888888888888888,
             "#fdca26"
            ],
            [
             1,
             "#f0f921"
            ]
           ],
           "sequentialminus": [
            [
             0,
             "#0d0887"
            ],
            [
             0.1111111111111111,
             "#46039f"
            ],
            [
             0.2222222222222222,
             "#7201a8"
            ],
            [
             0.3333333333333333,
             "#9c179e"
            ],
            [
             0.4444444444444444,
             "#bd3786"
            ],
            [
             0.5555555555555556,
             "#d8576b"
            ],
            [
             0.6666666666666666,
             "#ed7953"
            ],
            [
             0.7777777777777778,
             "#fb9f3a"
            ],
            [
             0.8888888888888888,
             "#fdca26"
            ],
            [
             1,
             "#f0f921"
            ]
           ]
          },
          "colorway": [
           "#636efa",
           "#EF553B",
           "#00cc96",
           "#ab63fa",
           "#FFA15A",
           "#19d3f3",
           "#FF6692",
           "#B6E880",
           "#FF97FF",
           "#FECB52"
          ],
          "font": {
           "color": "#2a3f5f"
          },
          "geo": {
           "bgcolor": "white",
           "lakecolor": "white",
           "landcolor": "#E5ECF6",
           "showlakes": true,
           "showland": true,
           "subunitcolor": "white"
          },
          "hoverlabel": {
           "align": "left"
          },
          "hovermode": "closest",
          "mapbox": {
           "style": "light"
          },
          "paper_bgcolor": "white",
          "plot_bgcolor": "#E5ECF6",
          "polar": {
           "angularaxis": {
            "gridcolor": "white",
            "linecolor": "white",
            "ticks": ""
           },
           "bgcolor": "#E5ECF6",
           "radialaxis": {
            "gridcolor": "white",
            "linecolor": "white",
            "ticks": ""
           }
          },
          "scene": {
           "xaxis": {
            "backgroundcolor": "#E5ECF6",
            "gridcolor": "white",
            "gridwidth": 2,
            "linecolor": "white",
            "showbackground": true,
            "ticks": "",
            "zerolinecolor": "white"
           },
           "yaxis": {
            "backgroundcolor": "#E5ECF6",
            "gridcolor": "white",
            "gridwidth": 2,
            "linecolor": "white",
            "showbackground": true,
            "ticks": "",
            "zerolinecolor": "white"
           },
           "zaxis": {
            "backgroundcolor": "#E5ECF6",
            "gridcolor": "white",
            "gridwidth": 2,
            "linecolor": "white",
            "showbackground": true,
            "ticks": "",
            "zerolinecolor": "white"
           }
          },
          "shapedefaults": {
           "line": {
            "color": "#2a3f5f"
           }
          },
          "ternary": {
           "aaxis": {
            "gridcolor": "white",
            "linecolor": "white",
            "ticks": ""
           },
           "baxis": {
            "gridcolor": "white",
            "linecolor": "white",
            "ticks": ""
           },
           "bgcolor": "#E5ECF6",
           "caxis": {
            "gridcolor": "white",
            "linecolor": "white",
            "ticks": ""
           }
          },
          "title": {
           "x": 0.05
          },
          "xaxis": {
           "automargin": true,
           "gridcolor": "white",
           "linecolor": "white",
           "ticks": "",
           "zerolinecolor": "white",
           "zerolinewidth": 2
          },
          "yaxis": {
           "automargin": true,
           "gridcolor": "white",
           "linecolor": "white",
           "ticks": "",
           "zerolinecolor": "white",
           "zerolinewidth": 2
          }
         }
        },
        "title": {
         "text": "Comportamiento del size después de haber ganado o perdido "
        }
       }
      },
      "text/html": [
       "<div>\n",
       "        \n",
       "        \n",
       "            <div id=\"6d8bad98-eb86-4fd2-9c1b-99d3682aff70\" class=\"plotly-graph-div\" style=\"height:525px; width:100%;\"></div>\n",
       "            <script type=\"text/javascript\">\n",
       "                require([\"plotly\"], function(Plotly) {\n",
       "                    window.PLOTLYENV=window.PLOTLYENV || {};\n",
       "                    \n",
       "                if (document.getElementById(\"6d8bad98-eb86-4fd2-9c1b-99d3682aff70\")) {\n",
       "                    Plotly.newPlot(\n",
       "                        '6d8bad98-eb86-4fd2-9c1b-99d3682aff70',\n",
       "                        [{\"domain\": {\"x\": [0.0, 0.45], \"y\": [0.0, 1.0]}, \"hole\": 0.4, \"hoverinfo\": \"label+percent+name\", \"labels\": [\"aumento\", \"disminuyo\", \"mantuvo\"], \"name\": \"Cuando Gana\", \"type\": \"pie\", \"values\": [2, 2, 4]}, {\"domain\": {\"x\": [0.55, 1.0], \"y\": [0.0, 1.0]}, \"hole\": 0.4, \"hoverinfo\": \"label+percent+name\", \"labels\": [\"aumento\", \"disminuyo\", \"mantuvo\"], \"name\": \"Cuando pierde\", \"type\": \"pie\", \"values\": [3, 1, 9]}],\n",
       "                        {\"annotations\": [{\"font\": {\"size\": 20}, \"showarrow\": false, \"text\": \"Cuando gan\\u00f3\", \"x\": 0.13, \"y\": 0.5}, {\"font\": {\"size\": 20}, \"showarrow\": false, \"text\": \"Cuando perdi\\u00f3\", \"x\": 0.88, \"y\": 0.5}], \"template\": {\"data\": {\"bar\": [{\"error_x\": {\"color\": \"#2a3f5f\"}, \"error_y\": {\"color\": \"#2a3f5f\"}, \"marker\": {\"line\": {\"color\": \"#E5ECF6\", \"width\": 0.5}}, \"type\": \"bar\"}], \"barpolar\": [{\"marker\": {\"line\": {\"color\": \"#E5ECF6\", \"width\": 0.5}}, \"type\": \"barpolar\"}], \"carpet\": [{\"aaxis\": {\"endlinecolor\": \"#2a3f5f\", \"gridcolor\": \"white\", \"linecolor\": \"white\", \"minorgridcolor\": \"white\", \"startlinecolor\": \"#2a3f5f\"}, \"baxis\": {\"endlinecolor\": \"#2a3f5f\", \"gridcolor\": \"white\", \"linecolor\": \"white\", \"minorgridcolor\": \"white\", \"startlinecolor\": \"#2a3f5f\"}, \"type\": \"carpet\"}], \"choropleth\": [{\"colorbar\": {\"outlinewidth\": 0, \"ticks\": \"\"}, \"type\": \"choropleth\"}], \"contour\": [{\"colorbar\": {\"outlinewidth\": 0, \"ticks\": \"\"}, \"colorscale\": [[0.0, \"#0d0887\"], [0.1111111111111111, \"#46039f\"], [0.2222222222222222, \"#7201a8\"], [0.3333333333333333, \"#9c179e\"], [0.4444444444444444, \"#bd3786\"], [0.5555555555555556, \"#d8576b\"], [0.6666666666666666, \"#ed7953\"], [0.7777777777777778, \"#fb9f3a\"], [0.8888888888888888, \"#fdca26\"], [1.0, \"#f0f921\"]], \"type\": \"contour\"}], \"contourcarpet\": [{\"colorbar\": {\"outlinewidth\": 0, \"ticks\": \"\"}, \"type\": \"contourcarpet\"}], \"heatmap\": [{\"colorbar\": {\"outlinewidth\": 0, \"ticks\": \"\"}, \"colorscale\": [[0.0, \"#0d0887\"], [0.1111111111111111, \"#46039f\"], [0.2222222222222222, \"#7201a8\"], [0.3333333333333333, \"#9c179e\"], [0.4444444444444444, \"#bd3786\"], [0.5555555555555556, \"#d8576b\"], [0.6666666666666666, \"#ed7953\"], [0.7777777777777778, \"#fb9f3a\"], [0.8888888888888888, \"#fdca26\"], [1.0, \"#f0f921\"]], \"type\": \"heatmap\"}], \"heatmapgl\": [{\"colorbar\": {\"outlinewidth\": 0, \"ticks\": \"\"}, \"colorscale\": [[0.0, \"#0d0887\"], [0.1111111111111111, \"#46039f\"], [0.2222222222222222, \"#7201a8\"], [0.3333333333333333, \"#9c179e\"], [0.4444444444444444, \"#bd3786\"], [0.5555555555555556, \"#d8576b\"], [0.6666666666666666, \"#ed7953\"], [0.7777777777777778, \"#fb9f3a\"], [0.8888888888888888, \"#fdca26\"], [1.0, \"#f0f921\"]], \"type\": \"heatmapgl\"}], \"histogram\": [{\"marker\": {\"colorbar\": {\"outlinewidth\": 0, \"ticks\": \"\"}}, \"type\": \"histogram\"}], \"histogram2d\": [{\"colorbar\": {\"outlinewidth\": 0, \"ticks\": \"\"}, \"colorscale\": [[0.0, \"#0d0887\"], [0.1111111111111111, \"#46039f\"], [0.2222222222222222, \"#7201a8\"], [0.3333333333333333, \"#9c179e\"], [0.4444444444444444, \"#bd3786\"], [0.5555555555555556, \"#d8576b\"], [0.6666666666666666, \"#ed7953\"], [0.7777777777777778, \"#fb9f3a\"], [0.8888888888888888, \"#fdca26\"], [1.0, \"#f0f921\"]], \"type\": \"histogram2d\"}], \"histogram2dcontour\": [{\"colorbar\": {\"outlinewidth\": 0, \"ticks\": \"\"}, \"colorscale\": [[0.0, \"#0d0887\"], [0.1111111111111111, \"#46039f\"], [0.2222222222222222, \"#7201a8\"], [0.3333333333333333, \"#9c179e\"], [0.4444444444444444, \"#bd3786\"], [0.5555555555555556, \"#d8576b\"], [0.6666666666666666, \"#ed7953\"], [0.7777777777777778, \"#fb9f3a\"], [0.8888888888888888, \"#fdca26\"], [1.0, \"#f0f921\"]], \"type\": \"histogram2dcontour\"}], \"mesh3d\": [{\"colorbar\": {\"outlinewidth\": 0, \"ticks\": \"\"}, \"type\": \"mesh3d\"}], \"parcoords\": [{\"line\": {\"colorbar\": {\"outlinewidth\": 0, \"ticks\": \"\"}}, \"type\": \"parcoords\"}], \"scatter\": [{\"marker\": {\"colorbar\": {\"outlinewidth\": 0, \"ticks\": \"\"}}, \"type\": \"scatter\"}], \"scatter3d\": [{\"line\": {\"colorbar\": {\"outlinewidth\": 0, \"ticks\": \"\"}}, \"marker\": {\"colorbar\": {\"outlinewidth\": 0, \"ticks\": \"\"}}, \"type\": \"scatter3d\"}], \"scattercarpet\": [{\"marker\": {\"colorbar\": {\"outlinewidth\": 0, \"ticks\": \"\"}}, \"type\": \"scattercarpet\"}], \"scattergeo\": [{\"marker\": {\"colorbar\": {\"outlinewidth\": 0, \"ticks\": \"\"}}, \"type\": \"scattergeo\"}], \"scattergl\": [{\"marker\": {\"colorbar\": {\"outlinewidth\": 0, \"ticks\": \"\"}}, \"type\": \"scattergl\"}], \"scattermapbox\": [{\"marker\": {\"colorbar\": {\"outlinewidth\": 0, \"ticks\": \"\"}}, \"type\": \"scattermapbox\"}], \"scatterpolar\": [{\"marker\": {\"colorbar\": {\"outlinewidth\": 0, \"ticks\": \"\"}}, \"type\": \"scatterpolar\"}], \"scatterpolargl\": [{\"marker\": {\"colorbar\": {\"outlinewidth\": 0, \"ticks\": \"\"}}, \"type\": \"scatterpolargl\"}], \"scatterternary\": [{\"marker\": {\"colorbar\": {\"outlinewidth\": 0, \"ticks\": \"\"}}, \"type\": \"scatterternary\"}], \"surface\": [{\"colorbar\": {\"outlinewidth\": 0, \"ticks\": \"\"}, \"colorscale\": [[0.0, \"#0d0887\"], [0.1111111111111111, \"#46039f\"], [0.2222222222222222, \"#7201a8\"], [0.3333333333333333, \"#9c179e\"], [0.4444444444444444, \"#bd3786\"], [0.5555555555555556, \"#d8576b\"], [0.6666666666666666, \"#ed7953\"], [0.7777777777777778, \"#fb9f3a\"], [0.8888888888888888, \"#fdca26\"], [1.0, \"#f0f921\"]], \"type\": \"surface\"}], \"table\": [{\"cells\": {\"fill\": {\"color\": \"#EBF0F8\"}, \"line\": {\"color\": \"white\"}}, \"header\": {\"fill\": {\"color\": \"#C8D4E3\"}, \"line\": {\"color\": \"white\"}}, \"type\": \"table\"}]}, \"layout\": {\"annotationdefaults\": {\"arrowcolor\": \"#2a3f5f\", \"arrowhead\": 0, \"arrowwidth\": 1}, \"colorscale\": {\"diverging\": [[0, \"#8e0152\"], [0.1, \"#c51b7d\"], [0.2, \"#de77ae\"], [0.3, \"#f1b6da\"], [0.4, \"#fde0ef\"], [0.5, \"#f7f7f7\"], [0.6, \"#e6f5d0\"], [0.7, \"#b8e186\"], [0.8, \"#7fbc41\"], [0.9, \"#4d9221\"], [1, \"#276419\"]], \"sequential\": [[0.0, \"#0d0887\"], [0.1111111111111111, \"#46039f\"], [0.2222222222222222, \"#7201a8\"], [0.3333333333333333, \"#9c179e\"], [0.4444444444444444, \"#bd3786\"], [0.5555555555555556, \"#d8576b\"], [0.6666666666666666, \"#ed7953\"], [0.7777777777777778, \"#fb9f3a\"], [0.8888888888888888, \"#fdca26\"], [1.0, \"#f0f921\"]], \"sequentialminus\": [[0.0, \"#0d0887\"], [0.1111111111111111, \"#46039f\"], [0.2222222222222222, \"#7201a8\"], [0.3333333333333333, \"#9c179e\"], [0.4444444444444444, \"#bd3786\"], [0.5555555555555556, \"#d8576b\"], [0.6666666666666666, \"#ed7953\"], [0.7777777777777778, \"#fb9f3a\"], [0.8888888888888888, \"#fdca26\"], [1.0, \"#f0f921\"]]}, \"colorway\": [\"#636efa\", \"#EF553B\", \"#00cc96\", \"#ab63fa\", \"#FFA15A\", \"#19d3f3\", \"#FF6692\", \"#B6E880\", \"#FF97FF\", \"#FECB52\"], \"font\": {\"color\": \"#2a3f5f\"}, \"geo\": {\"bgcolor\": \"white\", \"lakecolor\": \"white\", \"landcolor\": \"#E5ECF6\", \"showlakes\": true, \"showland\": true, \"subunitcolor\": \"white\"}, \"hoverlabel\": {\"align\": \"left\"}, \"hovermode\": \"closest\", \"mapbox\": {\"style\": \"light\"}, \"paper_bgcolor\": \"white\", \"plot_bgcolor\": \"#E5ECF6\", \"polar\": {\"angularaxis\": {\"gridcolor\": \"white\", \"linecolor\": \"white\", \"ticks\": \"\"}, \"bgcolor\": \"#E5ECF6\", \"radialaxis\": {\"gridcolor\": \"white\", \"linecolor\": \"white\", \"ticks\": \"\"}}, \"scene\": {\"xaxis\": {\"backgroundcolor\": \"#E5ECF6\", \"gridcolor\": \"white\", \"gridwidth\": 2, \"linecolor\": \"white\", \"showbackground\": true, \"ticks\": \"\", \"zerolinecolor\": \"white\"}, \"yaxis\": {\"backgroundcolor\": \"#E5ECF6\", \"gridcolor\": \"white\", \"gridwidth\": 2, \"linecolor\": \"white\", \"showbackground\": true, \"ticks\": \"\", \"zerolinecolor\": \"white\"}, \"zaxis\": {\"backgroundcolor\": \"#E5ECF6\", \"gridcolor\": \"white\", \"gridwidth\": 2, \"linecolor\": \"white\", \"showbackground\": true, \"ticks\": \"\", \"zerolinecolor\": \"white\"}}, \"shapedefaults\": {\"line\": {\"color\": \"#2a3f5f\"}}, \"ternary\": {\"aaxis\": {\"gridcolor\": \"white\", \"linecolor\": \"white\", \"ticks\": \"\"}, \"baxis\": {\"gridcolor\": \"white\", \"linecolor\": \"white\", \"ticks\": \"\"}, \"bgcolor\": \"#E5ECF6\", \"caxis\": {\"gridcolor\": \"white\", \"linecolor\": \"white\", \"ticks\": \"\"}}, \"title\": {\"x\": 0.05}, \"xaxis\": {\"automargin\": true, \"gridcolor\": \"white\", \"linecolor\": \"white\", \"ticks\": \"\", \"zerolinecolor\": \"white\", \"zerolinewidth\": 2}, \"yaxis\": {\"automargin\": true, \"gridcolor\": \"white\", \"linecolor\": \"white\", \"ticks\": \"\", \"zerolinecolor\": \"white\", \"zerolinewidth\": 2}}}, \"title\": {\"text\": \"Comportamiento del size despu\\u00e9s de haber ganado o perdido \"}},\n",
       "                        {\"responsive\": true}\n",
       "                    ).then(function(){\n",
       "                            \n",
       "var gd = document.getElementById('6d8bad98-eb86-4fd2-9c1b-99d3682aff70');\n",
       "var x = new MutationObserver(function (mutations, observer) {{\n",
       "        var display = window.getComputedStyle(gd).display;\n",
       "        if (!display || display === 'none') {{\n",
       "            console.log([gd, 'removed!']);\n",
       "            Plotly.purge(gd);\n",
       "            observer.disconnect();\n",
       "        }}\n",
       "}});\n",
       "\n",
       "// Listen for the removal of the full notebook cells\n",
       "var notebookContainer = gd.closest('#notebook-container');\n",
       "if (notebookContainer) {{\n",
       "    x.observe(notebookContainer, {childList: true});\n",
       "}}\n",
       "\n",
       "// Listen for the clearing of the current output cell\n",
       "var outputEl = gd.closest('.output');\n",
       "if (outputEl) {{\n",
       "    x.observe(outputEl, {childList: true});\n",
       "}}\n",
       "\n",
       "                        })\n",
       "                };\n",
       "                });\n",
       "            </script>\n",
       "        </div>"
      ]
     },
     "metadata": {},
     "output_type": "display_data"
    }
   ],
   "source": [
    "g_p(h)"
   ]
  },
  {
   "cell_type": "markdown",
   "metadata": {},
   "source": [
    "## Conclusiones"
   ]
  },
  {
   "cell_type": "markdown",
   "metadata": {},
   "source": [
    "Con el análisis realizado, nos hemos percatado de que el trader tiene un sesgo de confirmación. Se ve con el ejemplo del eurusd que fue sesgado su comportamiento 14 veces y 7 de estas fue razonable, es decir, era más marcado que tomara decisiones irracionales con este instrumento independientemente de si ganaba o perdía, esto se debe a que quizá quería esperarse a que se cumplieran sus expectativas en el largo plazo. Lo mismo con los demás instrumentos. Este mismo patrón se observó tres veces en tres diferentes instrumentos, el usdcad, xauusd, eurusd. Con las operaciones de oro en dólares se analiza un comportamiento sesgado 4 veces contra dos que fueron razonables y así con los demás casos. En general, esta persona tomaba decisiones porque tenía convicciones de que el precio del instrumento iba a bajar o subir, sin tomar en cuenta que el mercado la mayoría de las veces no le favorecía. "
   ]
  }
 ],
 "metadata": {
  "kernelspec": {
   "display_name": "Python 3",
   "language": "python",
   "name": "python3"
  },
  "language_info": {
   "codemirror_mode": {
    "name": "ipython",
    "version": 3
   },
   "file_extension": ".py",
   "mimetype": "text/x-python",
   "name": "python",
   "nbconvert_exporter": "python",
   "pygments_lexer": "ipython3",
   "version": "3.6.5"
  }
 },
 "nbformat": 4,
 "nbformat_minor": 2
}
