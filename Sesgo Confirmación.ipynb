{
 "cells": [
  {
   "cell_type": "markdown",
   "metadata": {
    "collapsed": true
   },
   "source": [
    "___\n",
    "<img style=\"float: right; margin: 0px 0px 15px 15px;\" \n",
    "src=\"https://www.carrerasenlinea.mx/logos/original/logo-instituto-tecnologico-y-de-estudios\n",
    "-superiores-de-occidente.png\" width=\"150px\" height=\"100px\" />\n",
    "\n",
    "\n",
    "# MICROESTRUCTURAS Y SISTEMAS DE \"TRADING\"\n",
    "# LABORATORIO 3\n",
    "\n",
    "## Nombres: Adrián García, Andres Ruvalcaba, Paulina Milenka, Hannia Lomelí\n",
    "\n",
    "## Fecha: 24 de Octubre 2019"
   ]
  },
  {
   "cell_type": "markdown",
   "metadata": {},
   "source": [
    "## Introducción\n",
    "\n",
    "Dentro de este tercer laboratorio se busca analizar el histórico de movimientos de un trader con el fin de reconocer si el individuo se inclino a algun sesgo cognitivo en específico, nosotros decidimos escoger el **sesgo de confirmación**. "
   ]
  },
  {
   "cell_type": "markdown",
   "metadata": {},
   "source": [
    "### ¿Qué es un sesgo cognitivo?\n",
    "\n",
    "Un sesgo cognitivo es un efecto psicológico que produce una desviación en el procesamiento mental, lo que lleva a una distorsión, juicio inexacto, interpretación ilógica, o lo que se llama en términos generales irracionalidad, que se da sobre la base de la interpretación de la información disponible, aunque los datos no sean lógicos o no estén relacionados entre sí."
   ]
  },
  {
   "cell_type": "markdown",
   "metadata": {},
   "source": [
    "### ¿Cuál es el sesgo de CONFIRMACIÓN?\n",
    "\n",
    "Un sesgo de confirmación implica la tendencia a buscar y considerar de forma más intensa y selectiva aquella información que confirme lo que ya pensamos. Por lo tanto, interpretamos más positivamente aquellos hechos que básicamente respalden nuestras opiniones previas. Se trata de un prejuicio cognitivo que nos incita a seguir de acuerdo con nuestras creencias para así evitar entrar en contradicción con nosotros mismos.\n",
    "\n",
    "\n",
    "\n"
   ]
  },
  {
   "cell_type": "markdown",
   "metadata": {},
   "source": [
    "### Ejemplo genérico \n",
    "\n",
    "Por ejemplo, imaginemos que una persona cree que los niños que toman leche materna son más inteligentes que los que toman leche artificial. Cada vez que esta persona se encuentre con un niño que saque altas puntuaciones académicas y haya sido amamantado de forma natural, le dará mayor importancia a esta “evidencia” que respalda lo que ya cree, obviando a su vez a aquellos que también obtienen muy buenas puntuaciones pero han tomado leche de sustitución. Este individuo incluso podría buscar pruebas científicas que respalden aún más este pensamiento, mientras descarta los ejemplos que no respaldan la idea.\n",
    "\n",
    "<img style=\"float:center; margin: 0px 0px 15px 15px;\" \n",
    "src=\"https://images.clarin.com/2015/03/19/HJQmd7anXl_1256x620.jpg\" width=\"300px\" height=\"200px\" />"
   ]
  },
  {
   "cell_type": "markdown",
   "metadata": {},
   "source": [
    "### Ejemplo aplicado a Trading\n",
    "\n",
    "El sesgo de confirmación es la tendencia a buscar y sobrevalorar los datos que apoyen nuestra propia posición. Esto puede ser un problema importante en el trading, ya que lleva a los traders a confiarse en exceso con sus posiciones y apermanecer en operaciones mucho después de cuando debieran haber sido abandonadas. Un sencillo ejemplo es cuando los traders están en una posición y se centran principalmente en los indicadores o comportamientos del mercado que apoyan permanecer en la posición.\n",
    "\n",
    "En tales casos, el stop-loss de una posición no será un conjunto de criterios planificados. Más probablemente el stop-loss será el dolor: la posición sólo se abandonará cuando se hace imposible mantener el sesgo de confirmación. Muy a menudo ese punto de dolor será un punto obvio de falta de confirmación, tal y como una ruptura a un nuevo máximo o mínimo.\n",
    "\n",
    "<img style=\"float:center; margin: 0px 0px 15px 15px;\" \n",
    "src=\"http://openmarkets.cmegroup.com/wp-content/uploads/web19OM0010-Trader_640x360.jpg\" width=\"300px\" height=\"200px\" />\n"
   ]
  },
  {
   "cell_type": "markdown",
   "metadata": {},
   "source": [
    "### Pasos para calcular nuestra función (Pseudo-código)\n",
    "* 1.\n",
    "\n",
    "* 2.\n",
    "\n",
    "* 3.\n",
    "\n",
    "* 4.\n",
    "\n",
    "* 5.\n",
    "\n",
    "* 6.\n",
    "\n",
    "* 7.\n",
    "\n",
    "* 8.\n",
    "\n",
    "* 9.\n",
    "\n",
    "* 10.\n",
    "\n"
   ]
  },
  {
   "cell_type": "markdown",
   "metadata": {},
   "source": [
    "### Código completo"
   ]
  },
  {
   "cell_type": "code",
   "execution_count": 14,
   "metadata": {},
   "outputs": [],
   "source": [
    "#Importamos librerías necesarias\n",
    "import pandas as pd\n",
    "import json\n",
    "import numpy as np\n",
    "import plotly.express as px\n",
    "# Instalar plotly con la siguiente ruta: pip install plotly"
   ]
  },
  {
   "cell_type": "code",
   "execution_count": 15,
   "metadata": {},
   "outputs": [],
   "source": [
    "# FUNCIÓN REALIZADA EN CLASE\n",
    "\n",
    "#%% Opciones para visualizar data frames en consola\n",
    "\n",
    "pd.set_option(\"display.max_rows\",5000)\n",
    "pd.set_option(\"display.max_columns\",500)\n",
    "pd.set_option(\"display.width\",1000)\n",
    "\n",
    "# Ingreso de datos de entrada: leer archivo JSON\n",
    "\n",
    "archivo = \"archivo_tradeview_0.json\"\n",
    "\n",
    "def f_datosent(P0_archivo=\"archivo_tradeview_0.json\"):\n",
    "    \n",
    "    \"\"\"\n",
    "    param P0_archivio: Nombre del archivo con ubicación en la misma carpeta.\n",
    "    \"\"\"\n",
    "    \n",
    "    P1_tipo = P0_archivo.split(\".\")\n",
    "    P1_tipo = P1_tipo[1]\n",
    "\n",
    "    if P1_tipo==\"json\":\n",
    "        with open(archivo, encoding=\"utf-8-sig\") as json_file:\n",
    "            datos_2 = json.load(json_file)[\"data\"]\n",
    "            \n",
    "        df_datos = pd.DataFrame(datos_2[\"closedTransactions\"][\"list\"])\n",
    "        # Resetear index para tener todos los números de índices completos\n",
    "        df_datos = df_datos.drop(\"info\",axis=1).dropna().reset_index().drop(\"index\",axis=1)\n",
    "        \n",
    "        # Tomar deseados\n",
    "        df_datos = df_datos[(df_datos[\"type\"]==\"buy\") | (df_datos[\"type\"]==\"sell\") | (df_datos[\"type\"]==\"s/l\") | (df_datos[\"type\"]==\"t/p\")]\n",
    "        \n",
    "        # Renombrar\n",
    "        \n",
    "        df_datos.rename(columns  = {\"SL\":\"sl\",\"TP\":\"tp\",\"price\":\"openPrice\",\"price2\":\"closePrice\",\"item\":\"instrument\"},inplace=True) # Con inplace se guarda \n",
    "        \n",
    "        return df_datos\n",
    "\n",
    "    elif P1_tipo==\"xlsx\":\n",
    "        \n",
    "    \n",
    "        df_datos = pd.read_excel(archivo)\n",
    "        \n",
    "        return df_datos\n",
    "    \n",
    "    elif P1_tipo==\"csv\":\n",
    "        \n",
    "        df_datos = pd.read_excel(archivo)\n",
    "        \n",
    "        return df_datos\n",
    "    else:\n",
    "        \n",
    "        print(\"No manejamos tu tipo de extensión\")\n",
    "         \n",
    "        \n",
    "    \n",
    "    \n",
    "df_datos = f_datosent(P0_archivo=archivo)"
   ]
  },
  {
   "cell_type": "markdown",
   "metadata": {},
   "source": [
    "## **NUESTRA FUNCIÓN:**"
   ]
  },
  {
   "cell_type": "code",
   "execution_count": 18,
   "metadata": {},
   "outputs": [],
   "source": [
    "def f_sesgo_confirmacion(df_datos):\n",
    "    \n",
    "    #Convertir formatos de columnas a flotantes\n",
    "    df_datos[['profit','size']] = df_datos[['profit','size']].astype(float) \n",
    "\n",
    "    lista1 =[]\n",
    "    lista2 =[]\n",
    "    h=list(df_datos.loc[:,'instrument'].unique()) #Aquí tomamos los elementos únicos de la columna de instrumentos - list\n",
    "    h2=df_datos.loc[:,'instrument'].unique() #Lo mismo de arriba pero sin convertirla en lista\n",
    "    \n",
    "    #Creamos DataFrame\n",
    "    x=[]\n",
    "    for i in range(len(h)): # Ciclo for que recorra toda la lista h\n",
    "        a=df_datos.where(df_datos.instrument == h[i]).dropna()[['instrument','size','profit']] # Quitamos los NA\n",
    "        \n",
    "        # Rezagamos profit y size\n",
    "        a['sizet1']=a[['size']].shift(1)\n",
    "        a['profit']=a[['profit']].shift(1)\n",
    "\n",
    "        # Determinamos condicion con base a profit para saber si gano o perdion     \n",
    "        condiciones = [a.profit<0,a.profit>0]\n",
    "        elecciones =['perdió','ganó']\n",
    "        # Return an array drawn from elements in choicelist, depending on conditions\n",
    "        b=np.select(condiciones,elecciones)\n",
    "        a['gano_perdio']=b\n",
    "        #a.head()\n",
    "    \n",
    "        # Ciclo para determinar su variación en size\n",
    "        c=[]\n",
    "        for i in range(len(a[['size']])):\n",
    "            if a.iloc[i,1] > a.iloc[i,3]:\n",
    "                d = 'aumentó'\n",
    "            elif a.iloc[i,1] < a.iloc[i,3]:\n",
    "                d = 'disminuyó'\n",
    "            elif a.iloc[i,1] == a.iloc[i,3]:\n",
    "                d = 'mantuvo'\n",
    "            else:\n",
    "                d = 'na'\n",
    "            c.append(d)\n",
    "\n",
    "        a['com_size']=c\n",
    "\n",
    "\n",
    "        # Juntamos las condiciones de profit & size para saber el comportamiento del trader \n",
    "        condiciones = [(a.gano_perdio=='ganó') & (a.com_size=='mantuvo'),(a.gano_perdio=='ganó') & (a.com_size=='aumentó'),\n",
    "                      (a.gano_perdio=='ganó') & (a.com_size=='disminuyó'),(a.gano_perdio=='perdió') & (a.com_size=='aumentó'),\n",
    "                      (a.gano_perdio=='perdió') & (a.com_size=='mantuvo'),(a.gano_perdio=='perdió') & (a.com_size=='disminuyó')]\n",
    "        elecciones =['Razonable','Razonable','Sesgado','Sesgado','Sesgado','Razonable']\n",
    "\n",
    "        b=np.select(condiciones,elecciones)\n",
    "\n",
    "        a['Comportamiento']=b\n",
    "        a=a.iloc[1:]    \n",
    "\n",
    "        # Ordenamos la info en dos tablas\n",
    "        tabla1 = a.pivot_table(index='gano_perdio', columns=['instrument','com_size'], aggfunc={'com_size':len})\n",
    "        tabla2 = a.pivot_table(columns=['instrument','Comportamiento'], aggfunc={'Comportamiento':len})\n",
    "\n",
    "        # Las mostramos como listas\n",
    "        lista1.append(tabla1)\n",
    "        lista2.append(tabla2)\n",
    "        \n",
    "    return lista1, lista2"
   ]
  },
  {
   "cell_type": "markdown",
   "metadata": {},
   "source": [
    "### **A continuación mando a llamar la función y presento DATOS:**"
   ]
  },
  {
   "cell_type": "code",
   "execution_count": 31,
   "metadata": {},
   "outputs": [
    {
     "data": {
      "text/plain": [
       "([            com_size        \n",
       "  instrument    usdmxn        \n",
       "  com_size     aumentó mantuvo\n",
       "  gano_perdio                 \n",
       "  ganó             2.0     1.0\n",
       "  perdió           NaN     2.0,             com_size\n",
       "  instrument    usdjpy\n",
       "  com_size     aumentó\n",
       "  gano_perdio         \n",
       "  ganó               1\n",
       "  perdió             1,             com_size                  \n",
       "  instrument    usdcad                  \n",
       "  com_size     aumentó disminuyó mantuvo\n",
       "  gano_perdio                           \n",
       "  ganó             NaN       NaN     2.0\n",
       "  perdió           2.0       1.0     3.0,             com_size                  \n",
       "  instrument    xauusd                  \n",
       "  com_size     aumentó disminuyó mantuvo\n",
       "  gano_perdio                           \n",
       "  ganó             1.0       1.0     1.0\n",
       "  perdió           2.0       NaN     1.0,             com_size                  \n",
       "  instrument    eurusd                  \n",
       "  com_size     aumentó disminuyó mantuvo\n",
       "  gano_perdio                           \n",
       "  ganó               2         2       4\n",
       "  perdió             3         1       9,             com_size\n",
       "  instrument    euraud\n",
       "  com_size     aumentó\n",
       "  gano_perdio         \n",
       "  perdió             1, Empty DataFrame\n",
       "  Columns: []\n",
       "  Index: [],             com_size          \n",
       "  instrument    audusd          \n",
       "  com_size     aumentó disminuyó\n",
       "  gano_perdio                   \n",
       "  ganó             NaN       1.0\n",
       "  perdió           2.0       NaN,             com_size\n",
       "  instrument    nzdcad\n",
       "  com_size     mantuvo\n",
       "  gano_perdio         \n",
       "  perdió             1, Empty DataFrame\n",
       "  Columns: []\n",
       "  Index: [],             com_size\n",
       "  instrument    gbpusd\n",
       "  com_size     mantuvo\n",
       "  gano_perdio         \n",
       "  ganó               2\n",
       "  perdió             1, Empty DataFrame\n",
       "  Columns: []\n",
       "  Index: [], Empty DataFrame\n",
       "  Columns: []\n",
       "  Index: []],\n",
       " [                instrument  Comportamiento\n",
       "  Comportamiento  usdmxn      Razonable         3\n",
       "                              Sesgado           2\n",
       "  dtype: int64,                 instrument  Comportamiento\n",
       "  Comportamiento  usdjpy      Razonable         1\n",
       "                              Sesgado           1\n",
       "  dtype: int64,                 instrument  Comportamiento\n",
       "  Comportamiento  usdcad      Razonable         3\n",
       "                              Sesgado           5\n",
       "  dtype: int64,                 instrument  Comportamiento\n",
       "  Comportamiento  xauusd      Razonable         2\n",
       "                              Sesgado           4\n",
       "  dtype: int64,                 instrument  Comportamiento\n",
       "  Comportamiento  eurusd      Razonable          7\n",
       "                              Sesgado           14\n",
       "  dtype: int64,                 instrument  Comportamiento\n",
       "  Comportamiento  euraud      Sesgado           1\n",
       "  dtype: int64, Empty DataFrame\n",
       "  Columns: []\n",
       "  Index: [Comportamiento],                 instrument  Comportamiento\n",
       "  Comportamiento  audusd      Sesgado           3\n",
       "  dtype: int64,                 instrument  Comportamiento\n",
       "  Comportamiento  nzdcad      Sesgado           1\n",
       "  dtype: int64, Empty DataFrame\n",
       "  Columns: []\n",
       "  Index: [Comportamiento],                 instrument  Comportamiento\n",
       "  Comportamiento  gbpusd      Razonable         2\n",
       "                              Sesgado           1\n",
       "  dtype: int64, Empty DataFrame\n",
       "  Columns: []\n",
       "  Index: [Comportamiento], Empty DataFrame\n",
       "  Columns: []\n",
       "  Index: [Comportamiento]])"
      ]
     },
     "execution_count": 31,
     "metadata": {},
     "output_type": "execute_result"
    }
   ],
   "source": [
    "funcion = f_sesgo_confirmacion(df_datos)\n",
    "funcion"
   ]
  },
  {
   "cell_type": "code",
   "execution_count": 42,
   "metadata": {},
   "outputs": [
    {
     "data": {
      "text/plain": [
       "<matplotlib.axes._subplots.AxesSubplot at 0x1f4c6e70fd0>"
      ]
     },
     "execution_count": 42,
     "metadata": {},
     "output_type": "execute_result"
    },
    {
     "data": {
      "image/png": "[encoded data removed]",
      "text/plain": [
       "<Figure size 432x288 with 1 Axes>"
      ]
     },
     "metadata": {
      "needs_background": "light"
     },
     "output_type": "display_data"
    }
   ],
   "source": [
    "# GRAFICAR ALGO ASI PERO CON PLOTLY\n",
    "a = (df_datos.pivot_table(columns=['instrument'],aggfunc={'instrument':len}))\n",
    "a1 = pd.DataFrame(a)\n",
    "h = a1.iloc[0,:]\n",
    "h.plot()"
   ]
  },
  {
   "cell_type": "code",
   "execution_count": 41,
   "metadata": {},
   "outputs": [
    {
     "data": {
      "application/vnd.plotly.v1+json": {
       "config": {
        "plotlyServerURL": "https://plot.ly"
       },
       "data": [
        {
         "type": "bar",
         "y": [
          1,
          4,
          2,
          1,
          22,
          1,
          4,
          2,
          9,
          1,
          3,
          6,
          7
         ]
        }
       ],
       "layout": {
        "template": {
         "data": {
          "bar": [
           {
            "error_x": {
             "color": "#2a3f5f"
            },
            "error_y": {
             "color": "#2a3f5f"
            },
            "marker": {
             "line": {
              "color": "#E5ECF6",
              "width": 0.5
             }
            },
            "type": "bar"
           }
          ],
          "barpolar": [
           {
            "marker": {
             "line": {
              "color": "#E5ECF6",
              "width": 0.5
             }
            },
            "type": "barpolar"
           }
          ],
          "carpet": [
           {
            "aaxis": {
             "endlinecolor": "#2a3f5f",
             "gridcolor": "white",
             "linecolor": "white",
             "minorgridcolor": "white",
             "startlinecolor": "#2a3f5f"
            },
            "baxis": {
             "endlinecolor": "#2a3f5f",
             "gridcolor": "white",
             "linecolor": "white",
             "minorgridcolor": "white",
             "startlinecolor": "#2a3f5f"
            },
            "type": "carpet"
           }
          ],
          "choropleth": [
           {
            "colorbar": {
             "outlinewidth": 0,
             "ticks": ""
            },
            "type": "choropleth"
           }
          ],
          "contour": [
           {
            "colorbar": {
             "outlinewidth": 0,
             "ticks": ""
            },
            "colorscale": [
             [
              0,
              "#0d0887"
             ],
             [
              0.1111111111111111,
              "#46039f"
             ],
             [
              0.2222222222222222,
              "#7201a8"
             ],
             [
              0.3333333333333333,
              "#9c179e"
             ],
             [
              0.4444444444444444,
              "#bd3786"
             ],
             [
              0.5555555555555556,
              "#d8576b"
             ],
             [
              0.6666666666666666,
              "#ed7953"
             ],
             [
              0.7777777777777778,
              "#fb9f3a"
             ],
             [
              0.8888888888888888,
              "#fdca26"
             ],
             [
              1,
              "#f0f921"
             ]
            ],
            "type": "contour"
           }
          ],
          "contourcarpet": [
           {
            "colorbar": {
             "outlinewidth": 0,
             "ticks": ""
            },
            "type": "contourcarpet"
           }
          ],
          "heatmap": [
           {
            "colorbar": {
             "outlinewidth": 0,
             "ticks": ""
            },
            "colorscale": [
             [
              0,
              "#0d0887"
             ],
             [
              0.1111111111111111,
              "#46039f"
             ],
             [
              0.2222222222222222,
              "#7201a8"
             ],
             [
              0.3333333333333333,
              "#9c179e"
             ],
             [
              0.4444444444444444,
              "#bd3786"
             ],
             [
              0.5555555555555556,
              "#d8576b"
             ],
             [
              0.6666666666666666,
              "#ed7953"
             ],
             [
              0.7777777777777778,
              "#fb9f3a"
             ],
             [
              0.8888888888888888,
              "#fdca26"
             ],
             [
              1,
              "#f0f921"
             ]
            ],
            "type": "heatmap"
           }
          ],
          "heatmapgl": [
           {
            "colorbar": {
             "outlinewidth": 0,
             "ticks": ""
            },
            "colorscale": [
             [
              0,
              "#0d0887"
             ],
             [
              0.1111111111111111,
              "#46039f"
             ],
             [
              0.2222222222222222,
              "#7201a8"
             ],
             [
              0.3333333333333333,
              "#9c179e"
             ],
             [
              0.4444444444444444,
              "#bd3786"
             ],
             [
              0.5555555555555556,
              "#d8576b"
             ],
             [
              0.6666666666666666,
              "#ed7953"
             ],
             [
              0.7777777777777778,
              "#fb9f3a"
             ],
             [
              0.8888888888888888,
              "#fdca26"
             ],
             [
              1,
              "#f0f921"
             ]
            ],
            "type": "heatmapgl"
           }
          ],
          "histogram": [
           {
            "marker": {
             "colorbar": {
              "outlinewidth": 0,
              "ticks": ""
             }
            },
            "type": "histogram"
           }
          ],
          "histogram2d": [
           {
            "colorbar": {
             "outlinewidth": 0,
             "ticks": ""
            },
            "colorscale": [
             [
              0,
              "#0d0887"
             ],
             [
              0.1111111111111111,
              "#46039f"
             ],
             [
              0.2222222222222222,
              "#7201a8"
             ],
             [
              0.3333333333333333,
              "#9c179e"
             ],
             [
              0.4444444444444444,
              "#bd3786"
             ],
             [
              0.5555555555555556,
              "#d8576b"
             ],
             [
              0.6666666666666666,
              "#ed7953"
             ],
             [
              0.7777777777777778,
              "#fb9f3a"
             ],
             [
              0.8888888888888888,
              "#fdca26"
             ],
             [
              1,
              "#f0f921"
             ]
            ],
            "type": "histogram2d"
           }
          ],
          "histogram2dcontour": [
           {
            "colorbar": {
             "outlinewidth": 0,
             "ticks": ""
            },
            "colorscale": [
             [
              0,
              "#0d0887"
             ],
             [
              0.1111111111111111,
              "#46039f"
             ],
             [
              0.2222222222222222,
              "#7201a8"
             ],
             [
              0.3333333333333333,
              "#9c179e"
             ],
             [
              0.4444444444444444,
              "#bd3786"
             ],
             [
              0.5555555555555556,
              "#d8576b"
             ],
             [
              0.6666666666666666,
              "#ed7953"
             ],
             [
              0.7777777777777778,
              "#fb9f3a"
             ],
             [
              0.8888888888888888,
              "#fdca26"
             ],
             [
              1,
              "#f0f921"
             ]
            ],
            "type": "histogram2dcontour"
           }
          ],
          "mesh3d": [
           {
            "colorbar": {
             "outlinewidth": 0,
             "ticks": ""
            },
            "type": "mesh3d"
           }
          ],
          "parcoords": [
           {
            "line": {
             "colorbar": {
              "outlinewidth": 0,
              "ticks": ""
             }
            },
            "type": "parcoords"
           }
          ],
          "scatter": [
           {
            "marker": {
             "colorbar": {
              "outlinewidth": 0,
              "ticks": ""
             }
            },
            "type": "scatter"
           }
          ],
          "scatter3d": [
           {
            "line": {
             "colorbar": {
              "outlinewidth": 0,
              "ticks": ""
             }
            },
            "marker": {
             "colorbar": {
              "outlinewidth": 0,
              "ticks": ""
             }
            },
            "type": "scatter3d"
           }
          ],
          "scattercarpet": [
           {
            "marker": {
             "colorbar": {
              "outlinewidth": 0,
              "ticks": ""
             }
            },
            "type": "scattercarpet"
           }
          ],
          "scattergeo": [
           {
            "marker": {
             "colorbar": {
              "outlinewidth": 0,
              "ticks": ""
             }
            },
            "type": "scattergeo"
           }
          ],
          "scattergl": [
           {
            "marker": {
             "colorbar": {
              "outlinewidth": 0,
              "ticks": ""
             }
            },
            "type": "scattergl"
           }
          ],
          "scattermapbox": [
           {
            "marker": {
             "colorbar": {
              "outlinewidth": 0,
              "ticks": ""
             }
            },
            "type": "scattermapbox"
           }
          ],
          "scatterpolar": [
           {
            "marker": {
             "colorbar": {
              "outlinewidth": 0,
              "ticks": ""
             }
            },
            "type": "scatterpolar"
           }
          ],
          "scatterpolargl": [
           {
            "marker": {
             "colorbar": {
              "outlinewidth": 0,
              "ticks": ""
             }
            },
            "type": "scatterpolargl"
           }
          ],
          "scatterternary": [
           {
            "marker": {
             "colorbar": {
              "outlinewidth": 0,
              "ticks": ""
             }
            },
            "type": "scatterternary"
           }
          ],
          "surface": [
           {
            "colorbar": {
             "outlinewidth": 0,
             "ticks": ""
            },
            "colorscale": [
             [
              0,
              "#0d0887"
             ],
             [
              0.1111111111111111,
              "#46039f"
             ],
             [
              0.2222222222222222,
              "#7201a8"
             ],
             [
              0.3333333333333333,
              "#9c179e"
             ],
             [
              0.4444444444444444,
              "#bd3786"
             ],
             [
              0.5555555555555556,
              "#d8576b"
             ],
             [
              0.6666666666666666,
              "#ed7953"
             ],
             [
              0.7777777777777778,
              "#fb9f3a"
             ],
             [
              0.8888888888888888,
              "#fdca26"
             ],
             [
              1,
              "#f0f921"
             ]
            ],
            "type": "surface"
           }
          ],
          "table": [
           {
            "cells": {
             "fill": {
              "color": "#EBF0F8"
             },
             "line": {
              "color": "white"
             }
            },
            "header": {
             "fill": {
              "color": "#C8D4E3"
             },
             "line": {
              "color": "white"
             }
            },
            "type": "table"
           }
          ]
         },
         "layout": {
          "annotationdefaults": {
           "arrowcolor": "#2a3f5f",
           "arrowhead": 0,
           "arrowwidth": 1
          },
          "colorscale": {
           "diverging": [
            [
             0,
             "#8e0152"
            ],
            [
             0.1,
             "#c51b7d"
            ],
            [
             0.2,
             "#de77ae"
            ],
            [
             0.3,
             "#f1b6da"
            ],
            [
             0.4,
             "#fde0ef"
            ],
            [
             0.5,
             "#f7f7f7"
            ],
            [
             0.6,
             "#e6f5d0"
            ],
            [
             0.7,
             "#b8e186"
            ],
            [
             0.8,
             "#7fbc41"
            ],
            [
             0.9,
             "#4d9221"
            ],
            [
             1,
             "#276419"
            ]
           ],
           "sequential": [
            [
             0,
             "#0d0887"
            ],
            [
             0.1111111111111111,
             "#46039f"
            ],
            [
             0.2222222222222222,
             "#7201a8"
            ],
            [
             0.3333333333333333,
             "#9c179e"
            ],
            [
             0.4444444444444444,
             "#bd3786"
            ],
            [
             0.5555555555555556,
             "#d8576b"
            ],
            [
             0.6666666666666666,
             "#ed7953"
            ],
            [
             0.7777777777777778,
             "#fb9f3a"
            ],
            [
             0.8888888888888888,
             "#fdca26"
            ],
            [
             1,
             "#f0f921"
            ]
           ],
           "sequentialminus": [
            [
             0,
             "#0d0887"
            ],
            [
             0.1111111111111111,
             "#46039f"
            ],
            [
             0.2222222222222222,
             "#7201a8"
            ],
            [
             0.3333333333333333,
             "#9c179e"
            ],
            [
             0.4444444444444444,
             "#bd3786"
            ],
            [
             0.5555555555555556,
             "#d8576b"
            ],
            [
             0.6666666666666666,
             "#ed7953"
            ],
            [
             0.7777777777777778,
             "#fb9f3a"
            ],
            [
             0.8888888888888888,
             "#fdca26"
            ],
            [
             1,
             "#f0f921"
            ]
           ]
          },
          "colorway": [
           "#636efa",
           "#EF553B",
           "#00cc96",
           "#ab63fa",
           "#FFA15A",
           "#19d3f3",
           "#FF6692",
           "#B6E880",
           "#FF97FF",
           "#FECB52"
          ],
          "font": {
           "color": "#2a3f5f"
          },
          "geo": {
           "bgcolor": "white",
           "lakecolor": "white",
           "landcolor": "#E5ECF6",
           "showlakes": true,
           "showland": true,
           "subunitcolor": "white"
          },
          "hoverlabel": {
           "align": "left"
          },
          "hovermode": "closest",
          "mapbox": {
           "style": "light"
          },
          "paper_bgcolor": "white",
          "plot_bgcolor": "#E5ECF6",
          "polar": {
           "angularaxis": {
            "gridcolor": "white",
            "linecolor": "white",
            "ticks": ""
           },
           "bgcolor": "#E5ECF6",
           "radialaxis": {
            "gridcolor": "white",
            "linecolor": "white",
            "ticks": ""
           }
          },
          "scene": {
           "xaxis": {
            "backgroundcolor": "#E5ECF6",
            "gridcolor": "white",
            "gridwidth": 2,
            "linecolor": "white",
            "showbackground": true,
            "ticks": "",
            "zerolinecolor": "white"
           },
           "yaxis": {
            "backgroundcolor": "#E5ECF6",
            "gridcolor": "white",
            "gridwidth": 2,
            "linecolor": "white",
            "showbackground": true,
            "ticks": "",
            "zerolinecolor": "white"
           },
           "zaxis": {
            "backgroundcolor": "#E5ECF6",
            "gridcolor": "white",
            "gridwidth": 2,
            "linecolor": "white",
            "showbackground": true,
            "ticks": "",
            "zerolinecolor": "white"
           }
          },
          "shapedefaults": {
           "line": {
            "color": "#2a3f5f"
           }
          },
          "ternary": {
           "aaxis": {
            "gridcolor": "white",
            "linecolor": "white",
            "ticks": ""
           },
           "baxis": {
            "gridcolor": "white",
            "linecolor": "white",
            "ticks": ""
           },
           "bgcolor": "#E5ECF6",
           "caxis": {
            "gridcolor": "white",
            "linecolor": "white",
            "ticks": ""
           }
          },
          "title": {
           "x": 0.05
          },
          "xaxis": {
           "automargin": true,
           "gridcolor": "white",
           "linecolor": "white",
           "ticks": "",
           "zerolinecolor": "white",
           "zerolinewidth": 2
          },
          "yaxis": {
           "automargin": true,
           "gridcolor": "white",
           "linecolor": "white",
           "ticks": "",
           "zerolinecolor": "white",
           "zerolinewidth": 2
          }
         }
        },
        "title": {
         "text": "Paridades en las que más invirtio"
        }
       }
      },
      "text/html": [
       "<div>\n",
       "        \n",
       "        \n",
       "            <div id=\"88d6e96a-2bc3-46fd-b18a-c7eb704af99e\" class=\"plotly-graph-div\" style=\"height:525px; width:100%;\"></div>\n",
       "            <script type=\"text/javascript\">\n",
       "                require([\"plotly\"], function(Plotly) {\n",
       "                    window.PLOTLYENV=window.PLOTLYENV || {};\n",
       "                    \n",
       "                if (document.getElementById(\"88d6e96a-2bc3-46fd-b18a-c7eb704af99e\")) {\n",
       "                    Plotly.newPlot(\n",
       "                        '88d6e96a-2bc3-46fd-b18a-c7eb704af99e',\n",
       "                        [{\"type\": \"bar\", \"y\": [1, 4, 2, 1, 22, 1, 4, 2, 9, 1, 3, 6, 7]}],\n",
       "                        {\"template\": {\"data\": {\"bar\": [{\"error_x\": {\"color\": \"#2a3f5f\"}, \"error_y\": {\"color\": \"#2a3f5f\"}, \"marker\": {\"line\": {\"color\": \"#E5ECF6\", \"width\": 0.5}}, \"type\": \"bar\"}], \"barpolar\": [{\"marker\": {\"line\": {\"color\": \"#E5ECF6\", \"width\": 0.5}}, \"type\": \"barpolar\"}], \"carpet\": [{\"aaxis\": {\"endlinecolor\": \"#2a3f5f\", \"gridcolor\": \"white\", \"linecolor\": \"white\", \"minorgridcolor\": \"white\", \"startlinecolor\": \"#2a3f5f\"}, \"baxis\": {\"endlinecolor\": \"#2a3f5f\", \"gridcolor\": \"white\", \"linecolor\": \"white\", \"minorgridcolor\": \"white\", \"startlinecolor\": \"#2a3f5f\"}, \"type\": \"carpet\"}], \"choropleth\": [{\"colorbar\": {\"outlinewidth\": 0, \"ticks\": \"\"}, \"type\": \"choropleth\"}], \"contour\": [{\"colorbar\": {\"outlinewidth\": 0, \"ticks\": \"\"}, \"colorscale\": [[0.0, \"#0d0887\"], [0.1111111111111111, \"#46039f\"], [0.2222222222222222, \"#7201a8\"], [0.3333333333333333, \"#9c179e\"], [0.4444444444444444, \"#bd3786\"], [0.5555555555555556, \"#d8576b\"], [0.6666666666666666, \"#ed7953\"], [0.7777777777777778, \"#fb9f3a\"], [0.8888888888888888, \"#fdca26\"], [1.0, \"#f0f921\"]], \"type\": \"contour\"}], \"contourcarpet\": [{\"colorbar\": {\"outlinewidth\": 0, \"ticks\": \"\"}, \"type\": \"contourcarpet\"}], \"heatmap\": [{\"colorbar\": {\"outlinewidth\": 0, \"ticks\": \"\"}, \"colorscale\": [[0.0, \"#0d0887\"], [0.1111111111111111, \"#46039f\"], [0.2222222222222222, \"#7201a8\"], [0.3333333333333333, \"#9c179e\"], [0.4444444444444444, \"#bd3786\"], [0.5555555555555556, \"#d8576b\"], [0.6666666666666666, \"#ed7953\"], [0.7777777777777778, \"#fb9f3a\"], [0.8888888888888888, \"#fdca26\"], [1.0, \"#f0f921\"]], \"type\": \"heatmap\"}], \"heatmapgl\": [{\"colorbar\": {\"outlinewidth\": 0, \"ticks\": \"\"}, \"colorscale\": [[0.0, \"#0d0887\"], [0.1111111111111111, \"#46039f\"], [0.2222222222222222, \"#7201a8\"], [0.3333333333333333, \"#9c179e\"], [0.4444444444444444, \"#bd3786\"], [0.5555555555555556, \"#d8576b\"], [0.6666666666666666, \"#ed7953\"], [0.7777777777777778, \"#fb9f3a\"], [0.8888888888888888, \"#fdca26\"], [1.0, \"#f0f921\"]], \"type\": \"heatmapgl\"}], \"histogram\": [{\"marker\": {\"colorbar\": {\"outlinewidth\": 0, \"ticks\": \"\"}}, \"type\": \"histogram\"}], \"histogram2d\": [{\"colorbar\": {\"outlinewidth\": 0, \"ticks\": \"\"}, \"colorscale\": [[0.0, \"#0d0887\"], [0.1111111111111111, \"#46039f\"], [0.2222222222222222, \"#7201a8\"], [0.3333333333333333, \"#9c179e\"], [0.4444444444444444, \"#bd3786\"], [0.5555555555555556, \"#d8576b\"], [0.6666666666666666, \"#ed7953\"], [0.7777777777777778, \"#fb9f3a\"], [0.8888888888888888, \"#fdca26\"], [1.0, \"#f0f921\"]], \"type\": \"histogram2d\"}], \"histogram2dcontour\": [{\"colorbar\": {\"outlinewidth\": 0, \"ticks\": \"\"}, \"colorscale\": [[0.0, \"#0d0887\"], [0.1111111111111111, \"#46039f\"], [0.2222222222222222, \"#7201a8\"], [0.3333333333333333, \"#9c179e\"], [0.4444444444444444, \"#bd3786\"], [0.5555555555555556, \"#d8576b\"], [0.6666666666666666, \"#ed7953\"], [0.7777777777777778, \"#fb9f3a\"], [0.8888888888888888, \"#fdca26\"], [1.0, \"#f0f921\"]], \"type\": \"histogram2dcontour\"}], \"mesh3d\": [{\"colorbar\": {\"outlinewidth\": 0, \"ticks\": \"\"}, \"type\": \"mesh3d\"}], \"parcoords\": [{\"line\": {\"colorbar\": {\"outlinewidth\": 0, \"ticks\": \"\"}}, \"type\": \"parcoords\"}], \"scatter\": [{\"marker\": {\"colorbar\": {\"outlinewidth\": 0, \"ticks\": \"\"}}, \"type\": \"scatter\"}], \"scatter3d\": [{\"line\": {\"colorbar\": {\"outlinewidth\": 0, \"ticks\": \"\"}}, \"marker\": {\"colorbar\": {\"outlinewidth\": 0, \"ticks\": \"\"}}, \"type\": \"scatter3d\"}], \"scattercarpet\": [{\"marker\": {\"colorbar\": {\"outlinewidth\": 0, \"ticks\": \"\"}}, \"type\": \"scattercarpet\"}], \"scattergeo\": [{\"marker\": {\"colorbar\": {\"outlinewidth\": 0, \"ticks\": \"\"}}, \"type\": \"scattergeo\"}], \"scattergl\": [{\"marker\": {\"colorbar\": {\"outlinewidth\": 0, \"ticks\": \"\"}}, \"type\": \"scattergl\"}], \"scattermapbox\": [{\"marker\": {\"colorbar\": {\"outlinewidth\": 0, \"ticks\": \"\"}}, \"type\": \"scattermapbox\"}], \"scatterpolar\": [{\"marker\": {\"colorbar\": {\"outlinewidth\": 0, \"ticks\": \"\"}}, \"type\": \"scatterpolar\"}], \"scatterpolargl\": [{\"marker\": {\"colorbar\": {\"outlinewidth\": 0, \"ticks\": \"\"}}, \"type\": \"scatterpolargl\"}], \"scatterternary\": [{\"marker\": {\"colorbar\": {\"outlinewidth\": 0, \"ticks\": \"\"}}, \"type\": \"scatterternary\"}], \"surface\": [{\"colorbar\": {\"outlinewidth\": 0, \"ticks\": \"\"}, \"colorscale\": [[0.0, \"#0d0887\"], [0.1111111111111111, \"#46039f\"], [0.2222222222222222, \"#7201a8\"], [0.3333333333333333, \"#9c179e\"], [0.4444444444444444, \"#bd3786\"], [0.5555555555555556, \"#d8576b\"], [0.6666666666666666, \"#ed7953\"], [0.7777777777777778, \"#fb9f3a\"], [0.8888888888888888, \"#fdca26\"], [1.0, \"#f0f921\"]], \"type\": \"surface\"}], \"table\": [{\"cells\": {\"fill\": {\"color\": \"#EBF0F8\"}, \"line\": {\"color\": \"white\"}}, \"header\": {\"fill\": {\"color\": \"#C8D4E3\"}, \"line\": {\"color\": \"white\"}}, \"type\": \"table\"}]}, \"layout\": {\"annotationdefaults\": {\"arrowcolor\": \"#2a3f5f\", \"arrowhead\": 0, \"arrowwidth\": 1}, \"colorscale\": {\"diverging\": [[0, \"#8e0152\"], [0.1, \"#c51b7d\"], [0.2, \"#de77ae\"], [0.3, \"#f1b6da\"], [0.4, \"#fde0ef\"], [0.5, \"#f7f7f7\"], [0.6, \"#e6f5d0\"], [0.7, \"#b8e186\"], [0.8, \"#7fbc41\"], [0.9, \"#4d9221\"], [1, \"#276419\"]], \"sequential\": [[0.0, \"#0d0887\"], [0.1111111111111111, \"#46039f\"], [0.2222222222222222, \"#7201a8\"], [0.3333333333333333, \"#9c179e\"], [0.4444444444444444, \"#bd3786\"], [0.5555555555555556, \"#d8576b\"], [0.6666666666666666, \"#ed7953\"], [0.7777777777777778, \"#fb9f3a\"], [0.8888888888888888, \"#fdca26\"], [1.0, \"#f0f921\"]], \"sequentialminus\": [[0.0, \"#0d0887\"], [0.1111111111111111, \"#46039f\"], [0.2222222222222222, \"#7201a8\"], [0.3333333333333333, \"#9c179e\"], [0.4444444444444444, \"#bd3786\"], [0.5555555555555556, \"#d8576b\"], [0.6666666666666666, \"#ed7953\"], [0.7777777777777778, \"#fb9f3a\"], [0.8888888888888888, \"#fdca26\"], [1.0, \"#f0f921\"]]}, \"colorway\": [\"#636efa\", \"#EF553B\", \"#00cc96\", \"#ab63fa\", \"#FFA15A\", \"#19d3f3\", \"#FF6692\", \"#B6E880\", \"#FF97FF\", \"#FECB52\"], \"font\": {\"color\": \"#2a3f5f\"}, \"geo\": {\"bgcolor\": \"white\", \"lakecolor\": \"white\", \"landcolor\": \"#E5ECF6\", \"showlakes\": true, \"showland\": true, \"subunitcolor\": \"white\"}, \"hoverlabel\": {\"align\": \"left\"}, \"hovermode\": \"closest\", \"mapbox\": {\"style\": \"light\"}, \"paper_bgcolor\": \"white\", \"plot_bgcolor\": \"#E5ECF6\", \"polar\": {\"angularaxis\": {\"gridcolor\": \"white\", \"linecolor\": \"white\", \"ticks\": \"\"}, \"bgcolor\": \"#E5ECF6\", \"radialaxis\": {\"gridcolor\": \"white\", \"linecolor\": \"white\", \"ticks\": \"\"}}, \"scene\": {\"xaxis\": {\"backgroundcolor\": \"#E5ECF6\", \"gridcolor\": \"white\", \"gridwidth\": 2, \"linecolor\": \"white\", \"showbackground\": true, \"ticks\": \"\", \"zerolinecolor\": \"white\"}, \"yaxis\": {\"backgroundcolor\": \"#E5ECF6\", \"gridcolor\": \"white\", \"gridwidth\": 2, \"linecolor\": \"white\", \"showbackground\": true, \"ticks\": \"\", \"zerolinecolor\": \"white\"}, \"zaxis\": {\"backgroundcolor\": \"#E5ECF6\", \"gridcolor\": \"white\", \"gridwidth\": 2, \"linecolor\": \"white\", \"showbackground\": true, \"ticks\": \"\", \"zerolinecolor\": \"white\"}}, \"shapedefaults\": {\"line\": {\"color\": \"#2a3f5f\"}}, \"ternary\": {\"aaxis\": {\"gridcolor\": \"white\", \"linecolor\": \"white\", \"ticks\": \"\"}, \"baxis\": {\"gridcolor\": \"white\", \"linecolor\": \"white\", \"ticks\": \"\"}, \"bgcolor\": \"#E5ECF6\", \"caxis\": {\"gridcolor\": \"white\", \"linecolor\": \"white\", \"ticks\": \"\"}}, \"title\": {\"x\": 0.05}, \"xaxis\": {\"automargin\": true, \"gridcolor\": \"white\", \"linecolor\": \"white\", \"ticks\": \"\", \"zerolinecolor\": \"white\", \"zerolinewidth\": 2}, \"yaxis\": {\"automargin\": true, \"gridcolor\": \"white\", \"linecolor\": \"white\", \"ticks\": \"\", \"zerolinecolor\": \"white\", \"zerolinewidth\": 2}}}, \"title\": {\"text\": \"Paridades en las que m\\u00e1s invirtio\"}},\n",
       "                        {\"responsive\": true}\n",
       "                    ).then(function(){\n",
       "                            \n",
       "var gd = document.getElementById('88d6e96a-2bc3-46fd-b18a-c7eb704af99e');\n",
       "var x = new MutationObserver(function (mutations, observer) {{\n",
       "        var display = window.getComputedStyle(gd).display;\n",
       "        if (!display || display === 'none') {{\n",
       "            console.log([gd, 'removed!']);\n",
       "            Plotly.purge(gd);\n",
       "            observer.disconnect();\n",
       "        }}\n",
       "}});\n",
       "\n",
       "// Listen for the removal of the full notebook cells\n",
       "var notebookContainer = gd.closest('#notebook-container');\n",
       "if (notebookContainer) {{\n",
       "    x.observe(notebookContainer, {childList: true});\n",
       "}}\n",
       "\n",
       "// Listen for the clearing of the current output cell\n",
       "var outputEl = gd.closest('.output');\n",
       "if (outputEl) {{\n",
       "    x.observe(outputEl, {childList: true});\n",
       "}}\n",
       "\n",
       "                        })\n",
       "                };\n",
       "                });\n",
       "            </script>\n",
       "        </div>"
      ]
     },
     "metadata": {},
     "output_type": "display_data"
    }
   ],
   "source": [
    "import plotly.graph_objects as go\n",
    "fig = go.Figure(data=[go.Bar(y=[1,4,2,1,22,1,4,2,9,1,3,6,7])],layout_title_text=\"Paridades en las que más invirtio\")\n",
    "fig.show()"
   ]
  },
  {
   "cell_type": "code",
   "execution_count": null,
   "metadata": {},
   "outputs": [],
   "source": []
  }
 ],
 "metadata": {
  "kernelspec": {
   "display_name": "Python 3",
   "language": "python",
   "name": "python3"
  },
  "language_info": {
   "codemirror_mode": {
    "name": "ipython",
    "version": 3
   },
   "file_extension": ".py",
   "mimetype": "text/x-python",
   "name": "python",
   "nbconvert_exporter": "python",
   "pygments_lexer": "ipython3",
   "version": "3.6.5"
  }
 },
 "nbformat": 4,
 "nbformat_minor": 2
}
