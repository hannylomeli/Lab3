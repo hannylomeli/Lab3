{
 "cells": [
  {
   "cell_type": "code",
   "execution_count": null,
   "metadata": {},
   "outputs": [],
   "source": [
    "import pandas as pd\n",
    "import json\n",
    "import numpy as np\n",
    "import plotly.express as px\n",
    "# Instalar plotly con la siguiente ruta: pip install plotly"
   ]
  },
  {
   "cell_type": "code",
   "execution_count": null,
   "metadata": {},
   "outputs": [],
   "source": [
    "\n",
    "#%% Opciones para visualizar data frames en consola\n",
    "\n",
    "pd.set_option(\"display.max_rows\",5000)\n",
    "pd.set_option(\"display.max_columns\",500)\n",
    "pd.set_option(\"display.width\",1000)\n",
    "\n",
    "# Ingreso de datos de entrada: leer archivo JSON\n",
    "\n",
    "archivo = \"archivo_tradeview_0.json\"\n",
    "\n",
    "def f_datosent(P0_archivo=\"archivo_tradeview_0.json\"):\n",
    "    \n",
    "    \"\"\"\n",
    "    param P0_archivio: Nombre del archivo con ubicación en la misma carpeta.\n",
    "    \"\"\"\n",
    "    \n",
    "    P1_tipo = P0_archivo.split(\".\")\n",
    "    P1_tipo = P1_tipo[1]\n",
    "\n",
    "    if P1_tipo==\"json\":\n",
    "        with open(archivo, encoding=\"utf-8-sig\") as json_file:\n",
    "            datos_2 = json.load(json_file)[\"data\"]\n",
    "            \n",
    "        df_datos = pd.DataFrame(datos_2[\"closedTransactions\"][\"list\"])\n",
    "        # Resetear index para tener todos los números de índices completos\n",
    "        df_datos = df_datos.drop(\"info\",axis=1).dropna().reset_index().drop(\"index\",axis=1)\n",
    "        \n",
    "        # Tomar deseados\n",
    "        df_datos = df_datos[(df_datos[\"type\"]==\"buy\") | (df_datos[\"type\"]==\"sell\") | (df_datos[\"type\"]==\"s/l\") | (df_datos[\"type\"]==\"t/p\")]\n",
    "        \n",
    "        # Renombrar\n",
    "        \n",
    "        df_datos.rename(columns  = {\"SL\":\"sl\",\"TP\":\"tp\",\"price\":\"openPrice\",\"price2\":\"closePrice\",\"item\":\"instrument\"},inplace=True) # Con inplace se guarda \n",
    "        \n",
    "        return df_datos\n",
    "\n",
    "    elif P1_tipo==\"xlsx\":\n",
    "        \n",
    "    \n",
    "        df_datos = pd.read_excel(archivo)\n",
    "        \n",
    "        return df_datos\n",
    "    \n",
    "    elif P1_tipo==\"csv\":\n",
    "        \n",
    "        df_datos = pd.read_excel(archivo)\n",
    "        \n",
    "        return df_datos\n",
    "    else:\n",
    "        \n",
    "        print(\"No manejamos tu tipo de extensión\")\n",
    "         \n",
    "        \n",
    "    \n",
    "    \n",
    "df_datos = f_datosent(P0_archivo=archivo)"
   ]
  }
 ],
 "metadata": {
  "kernelspec": {
   "display_name": "Python 3",
   "language": "python",
   "name": "python3"
  },
  "language_info": {
   "codemirror_mode": {
    "name": "ipython",
    "version": 3
   },
   "file_extension": ".py",
   "mimetype": "text/x-python",
   "name": "python",
   "nbconvert_exporter": "python",
   "pygments_lexer": "ipython3",
   "version": "3.7.3"
  }
 },
 "nbformat": 4,
 "nbformat_minor": 2
}
