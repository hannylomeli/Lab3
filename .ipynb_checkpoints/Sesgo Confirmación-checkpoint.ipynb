{
 "cells": [
  {
   "cell_type": "markdown",
   "metadata": {
    "collapsed": true
   },
   "source": [
    "___\n",
    "<img style=\"float: right; margin: 0px 0px 15px 15px;\" \n",
    "src=\"https://www.carrerasenlinea.mx/logos/original/logo-instituto-tecnologico-y-de-estudios\n",
    "-superiores-de-occidente.png\" width=\"150px\" height=\"100px\" />\n",
    "\n",
    "\n",
    "# MICROESTRUCTURAS Y SISTEMAS DE \"TRADING\"\n",
    "# LABORATORIO 3\n",
    "\n",
    "## Nombres: Adrián García, Andres Ruvalcaba, Paulina Milenka, Hannia Lomelí\n",
    "\n",
    "## Fecha: 24 de Octubre 2019"
   ]
  },
  {
   "cell_type": "markdown",
   "metadata": {},
   "source": [
    "## Introducción\n",
    "\n",
    "Dentro de este tercer laboratorio se busca analizar el histórico de movimientos de un trader con el fin de reconocer si el individuo se inclino a algun sesgo cognitivo en específico, nosotros decidimos escoger el **sesgo de confirmación**. "
   ]
  },
  {
   "cell_type": "markdown",
   "metadata": {},
   "source": [
    "### ¿Qué es un sesgo cognitivo?\n",
    "\n",
    "Un sesgo cognitivo es un efecto psicológico que produce una desviación en el procesamiento mental, lo que lleva a una distorsión, juicio inexacto, interpretación ilógica, o lo que se llama en términos generales irracionalidad, que se da sobre la base de la interpretación de la información disponible, aunque los datos no sean lógicos o no estén relacionados entre sí."
   ]
  },
  {
   "cell_type": "markdown",
   "metadata": {},
   "source": [
    "### ¿Cuál es el sesgo de CONFIRMACIÓN?\n",
    "\n",
    "Un sesgo de confirmación implica la tendencia a buscar y considerar de forma más intensa y selectiva aquella información que confirme lo que ya pensamos. Por lo tanto, interpretamos más positivamente aquellos hechos que básicamente respalden nuestras opiniones previas. Se trata de un prejuicio cognitivo que nos incita a seguir de acuerdo con nuestras creencias para así evitar entrar en contradicción con nosotros mismos.\n",
    "\n",
    "\n",
    "\n"
   ]
  },
  {
   "cell_type": "markdown",
   "metadata": {},
   "source": [
    "### Ejemplo genérico \n",
    "\n",
    "Por ejemplo, imaginemos que una persona cree que los niños que toman leche materna son más inteligentes que los que toman leche artificial. Cada vez que esta persona se encuentre con un niño que saque altas puntuaciones académicas y haya sido amamantado de forma natural, le dará mayor importancia a esta “evidencia” que respalda lo que ya cree, obviando a su vez a aquellos que también obtienen muy buenas puntuaciones pero han tomado leche de sustitución. Este individuo incluso podría buscar pruebas científicas que respalden aún más este pensamiento, mientras descarta los ejemplos que no respaldan la idea.\n",
    "\n",
    "<img style=\"float:center; margin: 0px 0px 15px 15px;\" \n",
    "src=\"https://images.clarin.com/2015/03/19/HJQmd7anXl_1256x620.jpg\" width=\"300px\" height=\"200px\" />"
   ]
  },
  {
   "cell_type": "markdown",
   "metadata": {},
   "source": [
    "### Ejemplo aplicado a Trading\n",
    "\n",
    "El sesgo de confirmación es la tendencia a buscar y sobrevalorar los datos que apoyen nuestra propia posición. Esto puede ser un problema importante en el trading, ya que lleva a los traders a confiarse en exceso con sus posiciones y apermanecer en operaciones mucho después de cuando debieran haber sido abandonadas. Un sencillo ejemplo es cuando los traders están en una posición y se centran principalmente en los indicadores o comportamientos del mercado que apoyan permanecer en la posición.\n",
    "\n",
    "En tales casos, el stop-loss de una posición no será un conjunto de criterios planificados. Más probablemente el stop-loss será el dolor: la posición sólo se abandonará cuando se hace imposible mantener el sesgo de confirmación. Muy a menudo ese punto de dolor será un punto obvio de falta de confirmación, tal y como una ruptura a un nuevo máximo o mínimo.\n",
    "\n",
    "<img style=\"float:center; margin: 0px 0px 15px 15px;\" \n",
    "src=\"http://openmarkets.cmegroup.com/wp-content/uploads/web19OM0010-Trader_640x360.jpg\" width=\"300px\" height=\"200px\" />\n"
   ]
  },
  {
   "cell_type": "markdown",
   "metadata": {},
   "source": [
    "### Pasos para calcular nuestra función (Pseudo-código)\n",
    "* 1.\n",
    "\n",
    "* 2.\n",
    "\n",
    "* 3.\n",
    "\n",
    "* 4.\n",
    "\n",
    "* 5.\n",
    "\n",
    "* 6.\n",
    "\n",
    "* 7.\n",
    "\n",
    "* 8.\n",
    "\n",
    "* 9.\n",
    "\n"
   ]
  },
  {
   "cell_type": "markdown",
   "metadata": {},
   "source": [
    "### Código completo"
   ]
  },
  {
   "cell_type": "code",
   "execution_count": null,
   "metadata": {},
   "outputs": [],
   "source": [
    "#Importamos librerías necesarias\n",
    "import pandas as pd\n",
    "import json\n",
    "import numpy as np\n",
    "import plotly.express as px\n",
    "# Instalar plotly con la siguiente ruta: pip install plotly"
   ]
  },
  {
   "cell_type": "code",
   "execution_count": null,
   "metadata": {
    "collapsed": true
   },
   "outputs": [],
   "source": [
    "# FUNCIÓN ECHA EN CLASE\n",
    "\n",
    "#%% Opciones para visualizar data frames en consola\n",
    "\n",
    "pd.set_option(\"display.max_rows\",5000)\n",
    "pd.set_option(\"display.max_columns\",500)\n",
    "pd.set_option(\"display.width\",1000)\n",
    "\n",
    "# Ingreso de datos de entrada: leer archivo JSON\n",
    "\n",
    "archivo = \"archivo_tradeview_0.json\"\n",
    "\n",
    "def f_datosent(P0_archivo=\"archivo_tradeview_0.json\"):\n",
    "    \n",
    "    \"\"\"\n",
    "    param P0_archivio: Nombre del archivo con ubicación en la misma carpeta.\n",
    "    \"\"\"\n",
    "    \n",
    "    P1_tipo = P0_archivo.split(\".\")\n",
    "    P1_tipo = P1_tipo[1]\n",
    "\n",
    "    if P1_tipo==\"json\":\n",
    "        with open(archivo, encoding=\"utf-8-sig\") as json_file:\n",
    "            datos_2 = json.load(json_file)[\"data\"]\n",
    "            \n",
    "        df_datos = pd.DataFrame(datos_2[\"closedTransactions\"][\"list\"])\n",
    "        # Resetear index para tener todos los números de índices completos\n",
    "        df_datos = df_datos.drop(\"info\",axis=1).dropna().reset_index().drop(\"index\",axis=1)\n",
    "        \n",
    "        # Tomar deseados\n",
    "        df_datos = df_datos[(df_datos[\"type\"]==\"buy\") | (df_datos[\"type\"]==\"sell\") | (df_datos[\"type\"]==\"s/l\") | (df_datos[\"type\"]==\"t/p\")]\n",
    "        \n",
    "        # Renombrar\n",
    "        \n",
    "        df_datos.rename(columns  = {\"SL\":\"sl\",\"TP\":\"tp\",\"price\":\"openPrice\",\"price2\":\"closePrice\",\"item\":\"instrument\"},inplace=True) # Con inplace se guarda \n",
    "        \n",
    "        return df_datos\n",
    "\n",
    "    elif P1_tipo==\"xlsx\":\n",
    "        \n",
    "    \n",
    "        df_datos = pd.read_excel(archivo)\n",
    "        \n",
    "        return df_datos\n",
    "    \n",
    "    elif P1_tipo==\"csv\":\n",
    "        \n",
    "        df_datos = pd.read_excel(archivo)\n",
    "        \n",
    "        return df_datos\n",
    "    else:\n",
    "        \n",
    "        print(\"No manejamos tu tipo de extensión\")\n",
    "         \n",
    "        \n",
    "    \n",
    "    \n",
    "df_datos = f_datosent(P0_archivo=archivo)"
   ]
  },
  {
   "cell_type": "markdown",
   "metadata": {},
   "source": [
    "**Nuestra función:**"
   ]
  },
  {
   "cell_type": "code",
   "execution_count": null,
   "metadata": {
    "collapsed": true
   },
   "outputs": [],
   "source": [
    "#convertir formatos de columnas a flotantes\n",
    "df_datos[['profit','size']] = df_datos[['profit','size']].astype(float) \n",
    "\n",
    "lista1 =[]\n",
    "lista2 =[]\n",
    "h=list(df_datos.loc[:,'instrument'].unique())\n",
    "h2=df_datos.loc[:,'instrument'].unique()\n",
    "#creando data frame\n",
    "x=[]\n",
    "for i in range(len(h)):\n",
    "    a=df_datos.where(df_datos.instrument == h[i]).dropna()[['instrument','size','profit']]\n",
    "    #rezgar profit y size\n",
    "    a['sizet1']=a[['size']].shift(1)\n",
    "    a['profit']=a[['profit']].shift(1)\n",
    "    \n",
    "    \n",
    "\n",
    "    condiciones = [a.profit<0,a.profit>0]\n",
    "    elecciones =['perdió','ganó']\n",
    "    b=np.select(condiciones,elecciones)\n",
    "    a['gano_perdio']=b\n",
    "    #a.head()\n",
    "    \n",
    "    c=[]\n",
    "    for i in range(len(a[['size']])):\n",
    "        if a.iloc[i,1] > a.iloc[i,3]:\n",
    "            d = 'aumentó'\n",
    "        elif a.iloc[i,1] < a.iloc[i,3]:\n",
    "            d = 'disminuyó'\n",
    "        elif a.iloc[i,1] == a.iloc[i,3]:\n",
    "            d = 'mantuvo'\n",
    "        else:\n",
    "            d = 'na'\n",
    "        c.append(d)\n",
    "\n",
    "    a['com_size']=c\n",
    "    \n",
    "    \n",
    "    \n",
    "    condiciones = [(a.gano_perdio=='ganó') & (a.com_size=='mantuvo'),(a.gano_perdio=='ganó') & (a.com_size=='aumentó'),\n",
    "                  (a.gano_perdio=='ganó') & (a.com_size=='disminuyó'),(a.gano_perdio=='perdió') & (a.com_size=='aumentó'),\n",
    "                  (a.gano_perdio=='perdió') & (a.com_size=='mantuvo'),(a.gano_perdio=='perdió') & (a.com_size=='disminuyó')]\n",
    "    elecciones =['Razonable','Razonable','Sesgado','Sesgado','Sesgado','Razonable']\n",
    "\n",
    "    b=np.select(condiciones,elecciones)\n",
    "\n",
    "    a['Comportamiento']=b\n",
    "\n",
    "    a=a.iloc[1:]    \n",
    "    \n",
    "    tabla1 = a.pivot_table(index='gano_perdio', columns=['instrument','com_size'], aggfunc={'com_size':len})\n",
    "    tabla2 = a.pivot_table(columns=['instrument','Comportamiento'], aggfunc={'Comportamiento':len})\n",
    "    \n",
    "    lista1.append(tabla1)\n",
    "    lista2.append(tabla2)"
   ]
  }
 ],
 "metadata": {
  "kernelspec": {
   "display_name": "Python 3",
   "language": "python",
   "name": "python3"
  },
  "language_info": {
   "codemirror_mode": {
    "name": "ipython",
    "version": 3
   },
   "file_extension": ".py",
   "mimetype": "text/x-python",
   "name": "python",
   "nbconvert_exporter": "python",
   "pygments_lexer": "ipython3",
   "version": "3.6.5"
  }
 },
 "nbformat": 4,
 "nbformat_minor": 2
}
