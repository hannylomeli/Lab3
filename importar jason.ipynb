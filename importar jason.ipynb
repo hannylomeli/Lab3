{
 "cells": [
  {
   "cell_type": "code",
   "execution_count": 2,
   "metadata": {},
   "outputs": [],
   "source": [
    "import pandas as pd\n",
    "import json"
   ]
  },
  {
   "cell_type": "code",
   "execution_count": 6,
   "metadata": {},
   "outputs": [],
   "source": [
    "#opciones para visualizar data frame en consola\n",
    "pd.set_option('display.max_rows',5000)\n",
    "pd.set_option('display.max_columns',500)\n",
    "pd.set_option('display.width',1000)"
   ]
  },
  {
   "cell_type": "code",
   "execution_count": 14,
   "metadata": {},
   "outputs": [],
   "source": [
    "#ingreso de datos entrada leer archivo jason\n",
    "archivo='archivo_tradeview_0.json'"
   ]
  },
  {
   "cell_type": "code",
   "execution_count": 15,
   "metadata": {},
   "outputs": [],
   "source": [
    "with open (archivo, encoding='utf-8-sig') as json_file:\n",
    "        datos_2 = json.load(json_file)['data']"
   ]
  },
  {
   "cell_type": "code",
   "execution_count": 16,
   "metadata": {},
   "outputs": [],
   "source": [
    "#seleccionar la seccion de 'closedTransactions' que es la de interes\n",
    "df_datos= pd.DataFrame(datos_2['closedTransactions']['list'])"
   ]
  },
  {
   "cell_type": "code",
   "execution_count": 17,
   "metadata": {},
   "outputs": [],
   "source": [
    "#fseleccionar solo los renglones de operacion\n",
    "df_datos=df_datos[(df_datos['type']=='buy')|(df_datos['type']=='sell')|(df_datos['type']=='s/l')|(df_datos['type']=='t/p')]"
   ]
  },
  {
   "cell_type": "code",
   "execution_count": 18,
   "metadata": {},
   "outputs": [],
   "source": [
    "#seleccionar indez para tener todos los numeros del indice completos\n",
    "df_datos=df_datos.reset_index()"
   ]
  },
  {
   "cell_type": "code",
   "execution_count": 19,
   "metadata": {},
   "outputs": [],
   "source": [
    "#eliminar columnas 'info0' e index\n",
    "df_datos = df_datos.drop(['info','index'],1)"
   ]
  },
  {
   "cell_type": "code",
   "execution_count": 20,
   "metadata": {},
   "outputs": [],
   "source": [
    "#Renombrar columnas{\n",
    "df_datos.rename(columns={'SL':'sl','TP':'tp','price':'openPrice','price2':'closePrice','item':'instrument'},inplace=True)\n"
   ]
  },
  {
   "cell_type": "code",
   "execution_count": null,
   "metadata": {},
   "outputs": [],
   "source": []
  }
 ],
 "metadata": {
  "kernelspec": {
   "display_name": "Python 3",
   "language": "python",
   "name": "python3"
  },
  "language_info": {
   "codemirror_mode": {
    "name": "ipython",
    "version": 3
   },
   "file_extension": ".py",
   "mimetype": "text/x-python",
   "name": "python",
   "nbconvert_exporter": "python",
   "pygments_lexer": "ipython3",
   "version": "3.7.3"
  }
 },
 "nbformat": 4,
 "nbformat_minor": 2
}
